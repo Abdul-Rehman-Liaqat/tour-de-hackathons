{
 "cells": [
  {
   "cell_type": "code",
   "execution_count": 331,
   "metadata": {},
   "outputs": [],
   "source": [
    "import pandas as pd\n",
    "import matplotlib.pyplot as plt\n",
    "from datetime import datetime\n",
    "from xgboost import XGBRegressor\n",
    "import numpy as np\n",
    "from sklearn.model_selection import train_test_split\n",
    "from sklearn.metrics import mean_absolute_error"
   ]
  },
  {
   "cell_type": "code",
   "execution_count": 180,
   "metadata": {},
   "outputs": [],
   "source": [
    "traffic_data = pd.read_csv(\"traffic_data.csv\")"
   ]
  },
  {
   "cell_type": "code",
   "execution_count": 181,
   "metadata": {},
   "outputs": [],
   "source": [
    "def round_near(x):\n",
    "    val = int(x[14:16])\n",
    "    if(val in (59,1)):\n",
    "        return x[0:14]+'00:00'\n",
    "    else:\n",
    "        return -1"
   ]
  },
  {
   "cell_type": "code",
   "execution_count": 182,
   "metadata": {},
   "outputs": [],
   "source": [
    "traffic_data['new_date'] = traffic_data['data_as_of'].apply(lambda x: round_near(x))"
   ]
  },
  {
   "cell_type": "code",
   "execution_count": 183,
   "metadata": {},
   "outputs": [],
   "source": [
    "temp = traffic_data[traffic_data['new_date'] != -1]"
   ]
  },
  {
   "cell_type": "code",
   "execution_count": 184,
   "metadata": {},
   "outputs": [],
   "source": [
    "traffic_data.to_csv('cleaned_traffic_data.csv',index = False)"
   ]
  },
  {
   "cell_type": "code",
   "execution_count": 185,
   "metadata": {},
   "outputs": [],
   "source": [
    "traffic_data = temp"
   ]
  },
  {
   "cell_type": "code",
   "execution_count": 117,
   "metadata": {},
   "outputs": [],
   "source": [
    "poll_1 = pd.read_csv('pollution_and_traffic_data1_4.csv')\n",
    "poll_2 = pd.read_csv('pollution_and_traffic_data5_9.csv')"
   ]
  },
  {
   "cell_type": "code",
   "execution_count": 118,
   "metadata": {},
   "outputs": [],
   "source": [
    "poll = poll_1.append(poll_2,ignore_index=True)"
   ]
  },
  {
   "cell_type": "code",
   "execution_count": 119,
   "metadata": {},
   "outputs": [],
   "source": [
    "poll.to_csv('latest_pollution_data.csv',index = False)"
   ]
  },
  {
   "cell_type": "code",
   "execution_count": 193,
   "metadata": {},
   "outputs": [],
   "source": [
    "traffic_data['data_point'] = traffic_data['data_point'].apply(lambda x:[float(i) for i in x.split(',')])"
   ]
  },
  {
   "cell_type": "code",
   "execution_count": 194,
   "metadata": {},
   "outputs": [],
   "source": [
    "traffic_data[['lat','long']] = pd.DataFrame(traffic_data.data_point.values.tolist(), index= traffic_data.index)"
   ]
  },
  {
   "cell_type": "code",
   "execution_count": 195,
   "metadata": {},
   "outputs": [
    {
     "data": {
      "text/plain": [
       "Index(['borough', 'data_as_of', 'encoded_poly_line', 'encoded_poly_line_lvls',\n",
       "       'id', 'link_id', 'link_name', 'link_points', 'owner', 'speed', 'status',\n",
       "       'transcom_id', 'travel_time', 'minutes', 'data_point', 'new_date',\n",
       "       'datetime', 'lat', 'long'],\n",
       "      dtype='object')"
      ]
     },
     "execution_count": 195,
     "metadata": {},
     "output_type": "execute_result"
    }
   ],
   "source": [
    "traffic_data.columns"
   ]
  },
  {
   "cell_type": "code",
   "execution_count": 159,
   "metadata": {},
   "outputs": [
    {
     "data": {
      "text/plain": [
       "Index(['datetime', 'lat', 'long', 'co', 'no2', 'o3', 'pm10', 'pm25', 'so2'], dtype='object')"
      ]
     },
     "execution_count": 159,
     "metadata": {},
     "output_type": "execute_result"
    }
   ],
   "source": [
    "poll.columns"
   ]
  },
  {
   "cell_type": "code",
   "execution_count": 196,
   "metadata": {},
   "outputs": [],
   "source": [
    "traffic_data = traffic_data[['new_date','lat','long','speed']]"
   ]
  },
  {
   "cell_type": "code",
   "execution_count": 197,
   "metadata": {},
   "outputs": [],
   "source": [
    "traffic_data.to_csv(\"cleaned_traffic_data.csv\",index = False)"
   ]
  },
  {
   "cell_type": "code",
   "execution_count": 137,
   "metadata": {},
   "outputs": [
    {
     "data": {
      "text/plain": [
       "Index(['datetime', 'lat', 'long', 'co', 'no2', 'o3', 'pm10', 'pm25', 'so2'], dtype='object')"
      ]
     },
     "execution_count": 137,
     "metadata": {},
     "output_type": "execute_result"
    }
   ],
   "source": [
    "poll.columns"
   ]
  },
  {
   "cell_type": "code",
   "execution_count": 139,
   "metadata": {},
   "outputs": [],
   "source": [
    "temp = pd.read_csv('cleaned_traffic_data.csv')"
   ]
  },
  {
   "cell_type": "code",
   "execution_count": 157,
   "metadata": {},
   "outputs": [],
   "source": [
    "temp['datetime_new_date'] = temp['new_date'].apply(lambda x : datetime.strptime(x,'%Y-%m-%dT%H:%M:%S.%f'))"
   ]
  },
  {
   "cell_type": "code",
   "execution_count": 210,
   "metadata": {},
   "outputs": [
    {
     "name": "stderr",
     "output_type": "stream",
     "text": [
      "/home/abdulliaqat/anaconda3/lib/python3.6/site-packages/ipykernel_launcher.py:1: SettingWithCopyWarning: \n",
      "A value is trying to be set on a copy of a slice from a DataFrame.\n",
      "Try using .loc[row_indexer,col_indexer] = value instead\n",
      "\n",
      "See the caveats in the documentation: http://pandas.pydata.org/pandas-docs/stable/indexing.html#indexing-view-versus-copy\n",
      "  \"\"\"Entry point for launching an IPython kernel.\n"
     ]
    }
   ],
   "source": [
    "traffic_data['datetime'] = traffic_data['new_date']"
   ]
  },
  {
   "cell_type": "code",
   "execution_count": 211,
   "metadata": {},
   "outputs": [],
   "source": [
    "combined = traffic_data.merge(poll,on=['datetime','lat','long'])"
   ]
  },
  {
   "cell_type": "code",
   "execution_count": 213,
   "metadata": {},
   "outputs": [],
   "source": [
    "combined.to_csv('combined.csv',index = False)"
   ]
  },
  {
   "cell_type": "code",
   "execution_count": 257,
   "metadata": {},
   "outputs": [],
   "source": [
    "a=combined.groupby(['lat','long'])"
   ]
  },
  {
   "cell_type": "code",
   "execution_count": 258,
   "metadata": {},
   "outputs": [],
   "source": [
    "def normalize(x):\n",
    "    col = ['no2','o3','pm10','pm25','so2','co']\n",
    "    for c in col:\n",
    "        x[c+'_normal'] = (x[c]-x[c].mean())/(x[c].var())\n",
    "        x['lat'] = x['lat']\n",
    "        x['long'] = x['long']\n",
    "        x['datetime'] = x['datetime']\n",
    "    return x"
   ]
  },
  {
   "cell_type": "code",
   "execution_count": 259,
   "metadata": {},
   "outputs": [],
   "source": [
    "res = a.apply(lambda x:normalize(x))"
   ]
  },
  {
   "cell_type": "code",
   "execution_count": 260,
   "metadata": {},
   "outputs": [],
   "source": [
    "res = res.dropna()"
   ]
  },
  {
   "cell_type": "code",
   "execution_count": 261,
   "metadata": {},
   "outputs": [
    {
     "data": {
      "text/plain": [
       "103"
      ]
     },
     "execution_count": 261,
     "metadata": {},
     "output_type": "execute_result"
    }
   ],
   "source": [
    "len(res)"
   ]
  },
  {
   "cell_type": "code",
   "execution_count": 262,
   "metadata": {},
   "outputs": [],
   "source": [
    "res.to_csv('combined_normalized.csv',index = False)"
   ]
  },
  {
   "cell_type": "code",
   "execution_count": 242,
   "metadata": {},
   "outputs": [
    {
     "data": {
      "image/png": "[encoded data removed]",
      "text/plain": [
       "<Figure size 432x288 with 1 Axes>"
      ]
     },
     "metadata": {},
     "output_type": "display_data"
    }
   ],
   "source": [
    "plt.scatter(res['speed'],res['no2_normal'])\n",
    "plt.xlabel('speed')\n",
    "plt.ylabel('val')\n",
    "plt.show()"
   ]
  },
  {
   "cell_type": "code",
   "execution_count": 294,
   "metadata": {},
   "outputs": [
    {
     "data": {
      "text/html": [
       "<div>\n",
       "<style scoped>\n",
       "    .dataframe tbody tr th:only-of-type {\n",
       "        vertical-align: middle;\n",
       "    }\n",
       "\n",
       "    .dataframe tbody tr th {\n",
       "        vertical-align: top;\n",
       "    }\n",
       "\n",
       "    .dataframe thead th {\n",
       "        text-align: right;\n",
       "    }\n",
       "</style>\n",
       "<table border=\"1\" class=\"dataframe\">\n",
       "  <thead>\n",
       "    <tr style=\"text-align: right;\">\n",
       "      <th></th>\n",
       "      <th></th>\n",
       "      <th>co</th>\n",
       "      <th>no2</th>\n",
       "      <th>pm10</th>\n",
       "      <th>pm25</th>\n",
       "    </tr>\n",
       "    <tr>\n",
       "      <th>lat</th>\n",
       "      <th>long</th>\n",
       "      <th></th>\n",
       "      <th></th>\n",
       "      <th></th>\n",
       "      <th></th>\n",
       "    </tr>\n",
       "  </thead>\n",
       "  <tbody>\n",
       "    <tr>\n",
       "      <th>40.66579</th>\n",
       "      <th>-73.757060</th>\n",
       "      <td>247.863000</td>\n",
       "      <td>33.517000</td>\n",
       "      <td>39.614500</td>\n",
       "      <td>16.010500</td>\n",
       "    </tr>\n",
       "    <tr>\n",
       "      <th>40.66642</th>\n",
       "      <th>-73.789580</th>\n",
       "      <td>227.796667</td>\n",
       "      <td>46.336667</td>\n",
       "      <td>49.360000</td>\n",
       "      <td>13.953333</td>\n",
       "    </tr>\n",
       "    <tr>\n",
       "      <th>40.67374</th>\n",
       "      <th>-73.801540</th>\n",
       "      <td>232.901818</td>\n",
       "      <td>33.881818</td>\n",
       "      <td>43.361818</td>\n",
       "      <td>14.882727</td>\n",
       "    </tr>\n",
       "    <tr>\n",
       "      <th>40.69236</th>\n",
       "      <th>-73.999390</th>\n",
       "      <td>230.540000</td>\n",
       "      <td>28.780000</td>\n",
       "      <td>45.640000</td>\n",
       "      <td>14.765000</td>\n",
       "    </tr>\n",
       "    <tr>\n",
       "      <th>40.70158</th>\n",
       "      <th>-73.990330</th>\n",
       "      <td>355.380000</td>\n",
       "      <td>49.955000</td>\n",
       "      <td>63.360000</td>\n",
       "      <td>15.655000</td>\n",
       "    </tr>\n",
       "    <tr>\n",
       "      <th>40.70895</th>\n",
       "      <th>-73.996941</th>\n",
       "      <td>300.252000</td>\n",
       "      <td>26.160000</td>\n",
       "      <td>43.076000</td>\n",
       "      <td>16.632000</td>\n",
       "    </tr>\n",
       "    <tr>\n",
       "      <th>40.73868</th>\n",
       "      <th>-73.973391</th>\n",
       "      <td>219.730000</td>\n",
       "      <td>43.325000</td>\n",
       "      <td>41.775000</td>\n",
       "      <td>13.305000</td>\n",
       "    </tr>\n",
       "    <tr>\n",
       "      <th>40.73895</th>\n",
       "      <th>-74.010120</th>\n",
       "      <td>238.092222</td>\n",
       "      <td>24.462778</td>\n",
       "      <td>36.100000</td>\n",
       "      <td>14.258333</td>\n",
       "    </tr>\n",
       "    <tr>\n",
       "      <th>40.74137</th>\n",
       "      <th>-74.008930</th>\n",
       "      <td>251.336000</td>\n",
       "      <td>28.346000</td>\n",
       "      <td>41.740500</td>\n",
       "      <td>16.704000</td>\n",
       "    </tr>\n",
       "    <tr>\n",
       "      <th>40.76212</th>\n",
       "      <th>-74.910000</th>\n",
       "      <td>228.722000</td>\n",
       "      <td>5.409000</td>\n",
       "      <td>16.353000</td>\n",
       "      <td>8.564500</td>\n",
       "    </tr>\n",
       "  </tbody>\n",
       "</table>\n",
       "</div>"
      ],
      "text/plain": [
       "                             co        no2       pm10       pm25\n",
       "lat      long                                                   \n",
       "40.66579 -73.757060  247.863000  33.517000  39.614500  16.010500\n",
       "40.66642 -73.789580  227.796667  46.336667  49.360000  13.953333\n",
       "40.67374 -73.801540  232.901818  33.881818  43.361818  14.882727\n",
       "40.69236 -73.999390  230.540000  28.780000  45.640000  14.765000\n",
       "40.70158 -73.990330  355.380000  49.955000  63.360000  15.655000\n",
       "40.70895 -73.996941  300.252000  26.160000  43.076000  16.632000\n",
       "40.73868 -73.973391  219.730000  43.325000  41.775000  13.305000\n",
       "40.73895 -74.010120  238.092222  24.462778  36.100000  14.258333\n",
       "40.74137 -74.008930  251.336000  28.346000  41.740500  16.704000\n",
       "40.76212 -74.910000  228.722000   5.409000  16.353000   8.564500"
      ]
     },
     "execution_count": 294,
     "metadata": {},
     "output_type": "execute_result"
    }
   ],
   "source": [
    "res[['lat','long','co','no2','pm10','pm25']].groupby(['lat','long']).mean()"
   ]
  },
  {
   "cell_type": "code",
   "execution_count": 271,
   "metadata": {},
   "outputs": [],
   "source": [
    "one = res.groupby(['lat','long']).get_group((40.66579,-73.757060))\n",
    "two = res.groupby(['lat','long']).get_group((40.74137,-74.008930))\n",
    "three = res.groupby(['lat','long']).get_group((40.76212,-74.9100000))"
   ]
  },
  {
   "cell_type": "code",
   "execution_count": 289,
   "metadata": {},
   "outputs": [
    {
     "data": {
      "image/png": "[encoded data removed]",
      "text/plain": [
       "<Figure size 432x288 with 1 Axes>"
      ]
     },
     "metadata": {},
     "output_type": "display_data"
    }
   ],
   "source": [
    "plt.scatter(one['speed'],one['no2'])\n",
    "plt.show()"
   ]
  },
  {
   "cell_type": "code",
   "execution_count": 290,
   "metadata": {},
   "outputs": [
    {
     "data": {
      "image/png": "[encoded data removed]",
      "text/plain": [
       "<Figure size 432x288 with 1 Axes>"
      ]
     },
     "metadata": {},
     "output_type": "display_data"
    }
   ],
   "source": [
    "plt.scatter(two['speed'],two['no2'])\n",
    "plt.show()"
   ]
  },
  {
   "cell_type": "code",
   "execution_count": 288,
   "metadata": {},
   "outputs": [
    {
     "data": {
      "image/png": "[encoded data removed]",
      "text/plain": [
       "<Figure size 432x288 with 1 Axes>"
      ]
     },
     "metadata": {},
     "output_type": "display_data"
    }
   ],
   "source": [
    "plt.scatter(three['speed'],three['pm25'])\n",
    "plt.show()"
   ]
  },
  {
   "cell_type": "code",
   "execution_count": 296,
   "metadata": {},
   "outputs": [],
   "source": [
    "ml = res"
   ]
  },
  {
   "cell_type": "code",
   "execution_count": 298,
   "metadata": {},
   "outputs": [
    {
     "data": {
      "text/html": [
       "<div>\n",
       "<style scoped>\n",
       "    .dataframe tbody tr th:only-of-type {\n",
       "        vertical-align: middle;\n",
       "    }\n",
       "\n",
       "    .dataframe tbody tr th {\n",
       "        vertical-align: top;\n",
       "    }\n",
       "\n",
       "    .dataframe thead th {\n",
       "        text-align: right;\n",
       "    }\n",
       "</style>\n",
       "<table border=\"1\" class=\"dataframe\">\n",
       "  <thead>\n",
       "    <tr style=\"text-align: right;\">\n",
       "      <th></th>\n",
       "      <th>new_date</th>\n",
       "      <th>lat</th>\n",
       "      <th>long</th>\n",
       "      <th>speed</th>\n",
       "      <th>datetime</th>\n",
       "      <th>co</th>\n",
       "      <th>no2</th>\n",
       "      <th>o3</th>\n",
       "      <th>pm10</th>\n",
       "      <th>pm25</th>\n",
       "      <th>so2</th>\n",
       "      <th>no2_normal</th>\n",
       "      <th>o3_normal</th>\n",
       "      <th>pm10_normal</th>\n",
       "      <th>pm25_normal</th>\n",
       "      <th>so2_normal</th>\n",
       "      <th>co_normal</th>\n",
       "    </tr>\n",
       "  </thead>\n",
       "  <tbody>\n",
       "    <tr>\n",
       "      <th>2</th>\n",
       "      <td>2018-07-01T05:00:00</td>\n",
       "      <td>40.70158</td>\n",
       "      <td>-73.990330</td>\n",
       "      <td>33.55</td>\n",
       "      <td>2018-07-01T05:00:00</td>\n",
       "      <td>412.11</td>\n",
       "      <td>66.61</td>\n",
       "      <td>26.70</td>\n",
       "      <td>79.33</td>\n",
       "      <td>20.09</td>\n",
       "      <td>0.07</td>\n",
       "      <td>0.030021</td>\n",
       "      <td>-3.846154</td>\n",
       "      <td>0.031309</td>\n",
       "      <td>0.112740</td>\n",
       "      <td>33.333333</td>\n",
       "      <td>0.008814</td>\n",
       "    </tr>\n",
       "    <tr>\n",
       "      <th>4</th>\n",
       "      <td>2018-07-02T06:00:00</td>\n",
       "      <td>40.66579</td>\n",
       "      <td>-73.757060</td>\n",
       "      <td>31.68</td>\n",
       "      <td>2018-07-02T06:00:00</td>\n",
       "      <td>414.54</td>\n",
       "      <td>39.52</td>\n",
       "      <td>14.46</td>\n",
       "      <td>63.54</td>\n",
       "      <td>29.13</td>\n",
       "      <td>0.83</td>\n",
       "      <td>0.132375</td>\n",
       "      <td>-0.149629</td>\n",
       "      <td>0.112642</td>\n",
       "      <td>0.459293</td>\n",
       "      <td>7.205360</td>\n",
       "      <td>0.016624</td>\n",
       "    </tr>\n",
       "    <tr>\n",
       "      <th>5</th>\n",
       "      <td>2018-07-02T06:00:00</td>\n",
       "      <td>40.70895</td>\n",
       "      <td>-73.996941</td>\n",
       "      <td>32.93</td>\n",
       "      <td>2018-07-02T06:00:00</td>\n",
       "      <td>455.08</td>\n",
       "      <td>44.86</td>\n",
       "      <td>21.06</td>\n",
       "      <td>50.80</td>\n",
       "      <td>26.16</td>\n",
       "      <td>1.27</td>\n",
       "      <td>0.074749</td>\n",
       "      <td>-0.086980</td>\n",
       "      <td>0.021953</td>\n",
       "      <td>0.072515</td>\n",
       "      <td>1.655860</td>\n",
       "      <td>0.007551</td>\n",
       "    </tr>\n",
       "    <tr>\n",
       "      <th>6</th>\n",
       "      <td>2018-07-02T06:00:00</td>\n",
       "      <td>40.76212</td>\n",
       "      <td>-74.910000</td>\n",
       "      <td>18.64</td>\n",
       "      <td>2018-07-02T06:00:00</td>\n",
       "      <td>333.47</td>\n",
       "      <td>8.91</td>\n",
       "      <td>24.92</td>\n",
       "      <td>17.26</td>\n",
       "      <td>16.20</td>\n",
       "      <td>0.02</td>\n",
       "      <td>0.278626</td>\n",
       "      <td>-0.071400</td>\n",
       "      <td>0.011558</td>\n",
       "      <td>0.564809</td>\n",
       "      <td>-36.251403</td>\n",
       "      <td>0.013018</td>\n",
       "    </tr>\n",
       "    <tr>\n",
       "      <th>7</th>\n",
       "      <td>2018-07-02T06:00:00</td>\n",
       "      <td>40.74137</td>\n",
       "      <td>-74.008930</td>\n",
       "      <td>15.53</td>\n",
       "      <td>2018-07-02T06:00:00</td>\n",
       "      <td>455.69</td>\n",
       "      <td>44.17</td>\n",
       "      <td>21.29</td>\n",
       "      <td>50.39</td>\n",
       "      <td>26.33</td>\n",
       "      <td>1.44</td>\n",
       "      <td>0.253112</td>\n",
       "      <td>-0.070668</td>\n",
       "      <td>0.041340</td>\n",
       "      <td>0.311255</td>\n",
       "      <td>3.591401</td>\n",
       "      <td>0.016858</td>\n",
       "    </tr>\n",
       "  </tbody>\n",
       "</table>\n",
       "</div>"
      ],
      "text/plain": [
       "              new_date       lat       long  speed             datetime  \\\n",
       "2  2018-07-01T05:00:00  40.70158 -73.990330  33.55  2018-07-01T05:00:00   \n",
       "4  2018-07-02T06:00:00  40.66579 -73.757060  31.68  2018-07-02T06:00:00   \n",
       "5  2018-07-02T06:00:00  40.70895 -73.996941  32.93  2018-07-02T06:00:00   \n",
       "6  2018-07-02T06:00:00  40.76212 -74.910000  18.64  2018-07-02T06:00:00   \n",
       "7  2018-07-02T06:00:00  40.74137 -74.008930  15.53  2018-07-02T06:00:00   \n",
       "\n",
       "       co    no2     o3   pm10   pm25   so2  no2_normal  o3_normal  \\\n",
       "2  412.11  66.61  26.70  79.33  20.09  0.07    0.030021  -3.846154   \n",
       "4  414.54  39.52  14.46  63.54  29.13  0.83    0.132375  -0.149629   \n",
       "5  455.08  44.86  21.06  50.80  26.16  1.27    0.074749  -0.086980   \n",
       "6  333.47   8.91  24.92  17.26  16.20  0.02    0.278626  -0.071400   \n",
       "7  455.69  44.17  21.29  50.39  26.33  1.44    0.253112  -0.070668   \n",
       "\n",
       "   pm10_normal  pm25_normal  so2_normal  co_normal  \n",
       "2     0.031309     0.112740   33.333333   0.008814  \n",
       "4     0.112642     0.459293    7.205360   0.016624  \n",
       "5     0.021953     0.072515    1.655860   0.007551  \n",
       "6     0.011558     0.564809  -36.251403   0.013018  \n",
       "7     0.041340     0.311255    3.591401   0.016858  "
      ]
     },
     "execution_count": 298,
     "metadata": {},
     "output_type": "execute_result"
    }
   ],
   "source": [
    "ml.head()"
   ]
  },
  {
   "cell_type": "code",
   "execution_count": 376,
   "metadata": {},
   "outputs": [
    {
     "data": {
      "text/html": [
       "<div>\n",
       "<style scoped>\n",
       "    .dataframe tbody tr th:only-of-type {\n",
       "        vertical-align: middle;\n",
       "    }\n",
       "\n",
       "    .dataframe tbody tr th {\n",
       "        vertical-align: top;\n",
       "    }\n",
       "\n",
       "    .dataframe thead th {\n",
       "        text-align: right;\n",
       "    }\n",
       "</style>\n",
       "<table border=\"1\" class=\"dataframe\">\n",
       "  <thead>\n",
       "    <tr style=\"text-align: right;\">\n",
       "      <th></th>\n",
       "      <th>lat</th>\n",
       "      <th>long</th>\n",
       "      <th>speed</th>\n",
       "      <th>co</th>\n",
       "      <th>no2</th>\n",
       "      <th>o3</th>\n",
       "      <th>pm10</th>\n",
       "      <th>pm25</th>\n",
       "      <th>so2</th>\n",
       "      <th>no2_normal</th>\n",
       "      <th>o3_normal</th>\n",
       "      <th>pm10_normal</th>\n",
       "      <th>pm25_normal</th>\n",
       "      <th>so2_normal</th>\n",
       "      <th>co_normal</th>\n",
       "    </tr>\n",
       "  </thead>\n",
       "  <tbody>\n",
       "    <tr>\n",
       "      <th>count</th>\n",
       "      <td>103.000000</td>\n",
       "      <td>103.000000</td>\n",
       "      <td>103.000000</td>\n",
       "      <td>103.000000</td>\n",
       "      <td>103.000000</td>\n",
       "      <td>103.000000</td>\n",
       "      <td>103.000000</td>\n",
       "      <td>103.00000</td>\n",
       "      <td>103.000000</td>\n",
       "      <td>1.030000e+02</td>\n",
       "      <td>1.030000e+02</td>\n",
       "      <td>1.030000e+02</td>\n",
       "      <td>1.030000e+02</td>\n",
       "      <td>1.030000e+02</td>\n",
       "      <td>1.030000e+02</td>\n",
       "    </tr>\n",
       "    <tr>\n",
       "      <th>mean</th>\n",
       "      <td>40.717545</td>\n",
       "      <td>-74.104840</td>\n",
       "      <td>28.252621</td>\n",
       "      <td>244.679126</td>\n",
       "      <td>25.945631</td>\n",
       "      <td>30.529709</td>\n",
       "      <td>36.368447</td>\n",
       "      <td>14.15932</td>\n",
       "      <td>0.260194</td>\n",
       "      <td>-3.981443e-17</td>\n",
       "      <td>9.215929e-16</td>\n",
       "      <td>-2.506086e-17</td>\n",
       "      <td>1.994090e-17</td>\n",
       "      <td>-3.380252e-15</td>\n",
       "      <td>-2.096826e-18</td>\n",
       "    </tr>\n",
       "    <tr>\n",
       "      <th>std</th>\n",
       "      <td>0.037691</td>\n",
       "      <td>0.410421</td>\n",
       "      <td>15.939517</td>\n",
       "      <td>97.500779</td>\n",
       "      <td>14.393457</td>\n",
       "      <td>9.328464</td>\n",
       "      <td>16.369510</td>\n",
       "      <td>5.83476</td>\n",
       "      <td>0.409114</td>\n",
       "      <td>1.718783e-01</td>\n",
       "      <td>5.532735e-01</td>\n",
       "      <td>1.014371e-01</td>\n",
       "      <td>3.091574e-01</td>\n",
       "      <td>4.245625e+01</td>\n",
       "      <td>1.410506e-02</td>\n",
       "    </tr>\n",
       "    <tr>\n",
       "      <th>min</th>\n",
       "      <td>40.665790</td>\n",
       "      <td>-74.910000</td>\n",
       "      <td>0.000000</td>\n",
       "      <td>75.400000</td>\n",
       "      <td>0.590000</td>\n",
       "      <td>14.460000</td>\n",
       "      <td>4.360000</td>\n",
       "      <td>0.46000</td>\n",
       "      <td>0.000000</td>\n",
       "      <td>-4.484305e-01</td>\n",
       "      <td>-3.846154e+00</td>\n",
       "      <td>-3.257329e-01</td>\n",
       "      <td>-1.333333e+00</td>\n",
       "      <td>-2.000000e+02</td>\n",
       "      <td>-5.040323e-02</td>\n",
       "    </tr>\n",
       "    <tr>\n",
       "      <th>25%</th>\n",
       "      <td>40.673740</td>\n",
       "      <td>-74.010120</td>\n",
       "      <td>15.530000</td>\n",
       "      <td>191.315000</td>\n",
       "      <td>13.750000</td>\n",
       "      <td>24.555000</td>\n",
       "      <td>23.260000</td>\n",
       "      <td>11.18500</td>\n",
       "      <td>0.020000</td>\n",
       "      <td>-8.496933e-02</td>\n",
       "      <td>-7.622923e-02</td>\n",
       "      <td>-5.527126e-02</td>\n",
       "      <td>-1.401321e-01</td>\n",
       "      <td>-2.625788e+00</td>\n",
       "      <td>-6.226579e-03</td>\n",
       "    </tr>\n",
       "    <tr>\n",
       "      <th>50%</th>\n",
       "      <td>40.738950</td>\n",
       "      <td>-74.008930</td>\n",
       "      <td>22.360000</td>\n",
       "      <td>236.520000</td>\n",
       "      <td>27.610000</td>\n",
       "      <td>29.870000</td>\n",
       "      <td>36.830000</td>\n",
       "      <td>13.08000</td>\n",
       "      <td>0.040000</td>\n",
       "      <td>-8.093708e-03</td>\n",
       "      <td>-1.456985e-02</td>\n",
       "      <td>-1.300258e-02</td>\n",
       "      <td>-6.964917e-02</td>\n",
       "      <td>-1.236812e+00</td>\n",
       "      <td>-4.092194e-04</td>\n",
       "    </tr>\n",
       "    <tr>\n",
       "      <th>75%</th>\n",
       "      <td>40.741370</td>\n",
       "      <td>-73.801540</td>\n",
       "      <td>41.320000</td>\n",
       "      <td>297.600000</td>\n",
       "      <td>36.630000</td>\n",
       "      <td>33.080000</td>\n",
       "      <td>47.550000</td>\n",
       "      <td>16.10000</td>\n",
       "      <td>0.430000</td>\n",
       "      <td>8.310615e-02</td>\n",
       "      <td>6.326920e-02</td>\n",
       "      <td>4.656760e-02</td>\n",
       "      <td>1.150242e-01</td>\n",
       "      <td>3.442802e+00</td>\n",
       "      <td>6.213241e-03</td>\n",
       "    </tr>\n",
       "    <tr>\n",
       "      <th>max</th>\n",
       "      <td>40.762120</td>\n",
       "      <td>-73.757060</td>\n",
       "      <td>59.650000</td>\n",
       "      <td>457.260000</td>\n",
       "      <td>66.610000</td>\n",
       "      <td>71.290000</td>\n",
       "      <td>79.330000</td>\n",
       "      <td>29.13000</td>\n",
       "      <td>1.440000</td>\n",
       "      <td>4.484305e-01</td>\n",
       "      <td>3.846154e+00</td>\n",
       "      <td>3.257329e-01</td>\n",
       "      <td>1.333333e+00</td>\n",
       "      <td>1.343434e+02</td>\n",
       "      <td>5.040323e-02</td>\n",
       "    </tr>\n",
       "  </tbody>\n",
       "</table>\n",
       "</div>"
      ],
      "text/plain": [
       "              lat        long       speed          co         no2          o3  \\\n",
       "count  103.000000  103.000000  103.000000  103.000000  103.000000  103.000000   \n",
       "mean    40.717545  -74.104840   28.252621  244.679126   25.945631   30.529709   \n",
       "std      0.037691    0.410421   15.939517   97.500779   14.393457    9.328464   \n",
       "min     40.665790  -74.910000    0.000000   75.400000    0.590000   14.460000   \n",
       "25%     40.673740  -74.010120   15.530000  191.315000   13.750000   24.555000   \n",
       "50%     40.738950  -74.008930   22.360000  236.520000   27.610000   29.870000   \n",
       "75%     40.741370  -73.801540   41.320000  297.600000   36.630000   33.080000   \n",
       "max     40.762120  -73.757060   59.650000  457.260000   66.610000   71.290000   \n",
       "\n",
       "             pm10       pm25         so2    no2_normal     o3_normal  \\\n",
       "count  103.000000  103.00000  103.000000  1.030000e+02  1.030000e+02   \n",
       "mean    36.368447   14.15932    0.260194 -3.981443e-17  9.215929e-16   \n",
       "std     16.369510    5.83476    0.409114  1.718783e-01  5.532735e-01   \n",
       "min      4.360000    0.46000    0.000000 -4.484305e-01 -3.846154e+00   \n",
       "25%     23.260000   11.18500    0.020000 -8.496933e-02 -7.622923e-02   \n",
       "50%     36.830000   13.08000    0.040000 -8.093708e-03 -1.456985e-02   \n",
       "75%     47.550000   16.10000    0.430000  8.310615e-02  6.326920e-02   \n",
       "max     79.330000   29.13000    1.440000  4.484305e-01  3.846154e+00   \n",
       "\n",
       "        pm10_normal   pm25_normal    so2_normal     co_normal  \n",
       "count  1.030000e+02  1.030000e+02  1.030000e+02  1.030000e+02  \n",
       "mean  -2.506086e-17  1.994090e-17 -3.380252e-15 -2.096826e-18  \n",
       "std    1.014371e-01  3.091574e-01  4.245625e+01  1.410506e-02  \n",
       "min   -3.257329e-01 -1.333333e+00 -2.000000e+02 -5.040323e-02  \n",
       "25%   -5.527126e-02 -1.401321e-01 -2.625788e+00 -6.226579e-03  \n",
       "50%   -1.300258e-02 -6.964917e-02 -1.236812e+00 -4.092194e-04  \n",
       "75%    4.656760e-02  1.150242e-01  3.442802e+00  6.213241e-03  \n",
       "max    3.257329e-01  1.333333e+00  1.343434e+02  5.040323e-02  "
      ]
     },
     "execution_count": 376,
     "metadata": {},
     "output_type": "execute_result"
    }
   ],
   "source": [
    "ml.describe()"
   ]
  },
  {
   "cell_type": "markdown",
   "metadata": {},
   "source": [
    "## Predict speed"
   ]
  },
  {
   "cell_type": "code",
   "execution_count": 333,
   "metadata": {},
   "outputs": [],
   "source": [
    "#split test train\n",
    "x_col_speed = ['lat','long','co','no2','o3','pm10','pm25','so2','co_normal','no2_normal','o3_normal','pm10_normal','pm25_normal','so2_normal']\n",
    "y_col_speed = ['speed']\n",
    "X_train_speed,X_test_speed,y_train_speed,y_test_speed = train_test_split(ml[x_col_speed],ml[y_col_speed],test_size = 0.2,random_state = 5)"
   ]
  },
  {
   "cell_type": "code",
   "execution_count": 363,
   "metadata": {},
   "outputs": [],
   "source": [
    "#model train\n",
    "model = XGBRegressor()\n",
    "model.fit(X_train_speed.values,y_train_speed.values)\n",
    "y_pred_speed = model.predict(X_test_speed.values)"
   ]
  },
  {
   "cell_type": "code",
   "execution_count": 335,
   "metadata": {},
   "outputs": [
    {
     "name": "stdout",
     "output_type": "stream",
     "text": [
      "8.11050497327532\n"
     ]
    }
   ],
   "source": [
    "accuracy_speed = mean_absolute_error(y_test_speed.values,y_pred_speed)\n",
    "print(accuracy_speed)"
   ]
  },
  {
   "cell_type": "code",
   "execution_count": 371,
   "metadata": {},
   "outputs": [
    {
     "name": "stdout",
     "output_type": "stream",
     "text": [
      "13.523187209644385\n"
     ]
    }
   ],
   "source": [
    "rand_pred_speed =  np.random.uniform(low=min(y_test_speed.speed), high=max(y_test_speed.speed), size=(len(y_test_speed),))\n",
    "rand_accuracy_speed = mean_absolute_error(y_test_speed.values,rand_pred_speed)\n",
    "print(rand_accuracy_speed)"
   ]
  },
  {
   "cell_type": "markdown",
   "metadata": {},
   "source": [
    "## Predict pollution"
   ]
  },
  {
   "cell_type": "code",
   "execution_count": 372,
   "metadata": {},
   "outputs": [],
   "source": [
    "#split test train\n",
    "x_col_poll = ['lat','long','speed']\n",
    "var = 'pm25'\n",
    "y_col_poll = ['pm25']\n",
    "X_train_poll,X_test_poll,y_train_poll,y_test_poll = train_test_split(ml[x_col_poll],ml[y_col_poll],test_size = 0.2,random_state = 5)"
   ]
  },
  {
   "cell_type": "code",
   "execution_count": 373,
   "metadata": {},
   "outputs": [],
   "source": [
    "#model train\n",
    "model_poll = XGBRegressor()\n",
    "model_poll.fit(X_train_poll.values,y_train_poll.values)\n",
    "y_pred_poll = model_poll.predict(X_test_poll.values)"
   ]
  },
  {
   "cell_type": "code",
   "execution_count": 374,
   "metadata": {},
   "outputs": [
    {
     "name": "stdout",
     "output_type": "stream",
     "text": [
      "3.942538477579753\n"
     ]
    }
   ],
   "source": [
    "accuracy_poll = mean_absolute_error(y_test_poll.values,y_pred_poll)\n",
    "print(accuracy_poll)"
   ]
  },
  {
   "cell_type": "code",
   "execution_count": 375,
   "metadata": {},
   "outputs": [
    {
     "name": "stdout",
     "output_type": "stream",
     "text": [
      "5.912070159141585\n"
     ]
    }
   ],
   "source": [
    "rand_pred_poll =  np.random.uniform(low=min(y_test_poll[var]), high=max(y_test_poll[var]), size=(len(y_test_poll),))\n",
    "rand_accuracy_poll = mean_absolute_error(y_test_poll.values,rand_pred_poll)\n",
    "print(rand_accuracy_poll)"
   ]
  },
  {
   "cell_type": "code",
   "execution_count": null,
   "metadata": {},
   "outputs": [],
   "source": []
  }
 ],
 "metadata": {
  "kernelspec": {
   "display_name": "Python 3",
   "language": "python",
   "name": "python3"
  },
  "language_info": {
   "codemirror_mode": {
    "name": "ipython",
    "version": 3
   },
   "file_extension": ".py",
   "mimetype": "text/x-python",
   "name": "python",
   "nbconvert_exporter": "python",
   "pygments_lexer": "ipython3",
   "version": "3.6.1"
  }
 },
 "nbformat": 4,
 "nbformat_minor": 2
}
