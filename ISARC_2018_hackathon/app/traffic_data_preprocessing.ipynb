{
 "cells": [
  {
   "cell_type": "code",
   "execution_count": 1,
   "metadata": {},
   "outputs": [
    {
     "name": "stderr",
     "output_type": "stream",
     "text": [
      "/home/abdulliaqat/anaconda3/lib/python3.6/site-packages/sklearn/cross_validation.py:41: DeprecationWarning: This module was deprecated in version 0.18 in favor of the model_selection module into which all the refactored classes and functions are moved. Also note that the interface of the new CV iterators are different from that of this module. This module will be removed in 0.20.\n",
      "  \"This module will be removed in 0.20.\", DeprecationWarning)\n"
     ]
    }
   ],
   "source": [
    "import pandas as pd\n",
    "import matplotlib.pyplot as plt\n",
    "from datetime import datetime\n",
    "from xgboost import XGBRegressor\n",
    "import pickle\n",
    "import numpy as np\n",
    "from sklearn.model_selection import train_test_split\n",
    "from sklearn.metrics import mean_absolute_error"
   ]
  },
  {
   "cell_type": "code",
   "execution_count": 2,
   "metadata": {},
   "outputs": [],
   "source": [
    "traffic_data = pd.read_csv(\"traffic_data.csv\")"
   ]
  },
  {
   "cell_type": "code",
   "execution_count": 3,
   "metadata": {},
   "outputs": [
    {
     "data": {
      "text/html": [
       "<div>\n",
       "<style scoped>\n",
       "    .dataframe tbody tr th:only-of-type {\n",
       "        vertical-align: middle;\n",
       "    }\n",
       "\n",
       "    .dataframe tbody tr th {\n",
       "        vertical-align: top;\n",
       "    }\n",
       "\n",
       "    .dataframe thead th {\n",
       "        text-align: right;\n",
       "    }\n",
       "</style>\n",
       "<table border=\"1\" class=\"dataframe\">\n",
       "  <thead>\n",
       "    <tr style=\"text-align: right;\">\n",
       "      <th></th>\n",
       "      <th>borough</th>\n",
       "      <th>data_as_of</th>\n",
       "      <th>encoded_poly_line</th>\n",
       "      <th>encoded_poly_line_lvls</th>\n",
       "      <th>id</th>\n",
       "      <th>link_id</th>\n",
       "      <th>link_name</th>\n",
       "      <th>link_points</th>\n",
       "      <th>owner</th>\n",
       "      <th>speed</th>\n",
       "      <th>status</th>\n",
       "      <th>transcom_id</th>\n",
       "      <th>travel_time</th>\n",
       "      <th>minutes</th>\n",
       "      <th>data_point</th>\n",
       "    </tr>\n",
       "  </thead>\n",
       "  <tbody>\n",
       "    <tr>\n",
       "      <th>3439</th>\n",
       "      <td>Queens</td>\n",
       "      <td>2018-07-21T01:11:09.000</td>\n",
       "      <td>iczwFlqsaMvBtEtBbEnChEvBfBxCdCnCjAjGtD`AZpBbAj...</td>\n",
       "      <td>BBBBBBBBBBBBBBBB</td>\n",
       "      <td>424</td>\n",
       "      <td>4616300</td>\n",
       "      <td>VWE N MP8.64 (Exit 13 Northern Blvd) - Whitest...</td>\n",
       "      <td>40.77125,-73.833351 40.77065,-73.834421 40.770...</td>\n",
       "      <td>NYC_DOT_LIC</td>\n",
       "      <td>55.30</td>\n",
       "      <td>0</td>\n",
       "      <td>4616300</td>\n",
       "      <td>96</td>\n",
       "      <td>True</td>\n",
       "      <td>40.77065,-73.834421</td>\n",
       "    </tr>\n",
       "    <tr>\n",
       "      <th>3440</th>\n",
       "      <td>Queens</td>\n",
       "      <td>2018-07-21T01:11:09.000</td>\n",
       "      <td>olxwFdwtaMpBu@jAg@|@Yr@MdAGhA@dH\\~@E|@GbMoAbCa...</td>\n",
       "      <td>BBBBBBBBBBBBBBBBBBBBBBBBBBBBBBBBBBBBBBBBBBBB</td>\n",
       "      <td>423</td>\n",
       "      <td>4616299</td>\n",
       "      <td>VWE N MP6.39 (Exit 11 Jewel Ave) - MP8.65 (Exi...</td>\n",
       "      <td>40.7624804,-73.839391 40.76191,-73.839121 40.7...</td>\n",
       "      <td>NYC_DOT_LIC</td>\n",
       "      <td>55.30</td>\n",
       "      <td>0</td>\n",
       "      <td>4616299</td>\n",
       "      <td>97</td>\n",
       "      <td>True</td>\n",
       "      <td>40.76191,-73.839121</td>\n",
       "    </tr>\n",
       "    <tr>\n",
       "      <th>3441</th>\n",
       "      <td>Queens</td>\n",
       "      <td>2018-07-21T01:11:09.000</td>\n",
       "      <td>gmxwF|xtaMpFiCbAUdBOhBDrI\\tAGbM{A`BYrBm@hSwLpD...</td>\n",
       "      <td>BBBBBBBBBBBBBBBBBBBBBBBBBBBBBBBBB</td>\n",
       "      <td>428</td>\n",
       "      <td>4616241</td>\n",
       "      <td>VWE S MP8.65 (Exit 13 Northern Blvd) - MP6.39 ...</td>\n",
       "      <td>40.7626006,-73.839671 40.7613906,-73.83898 40....</td>\n",
       "      <td>NYC_DOT_LIC</td>\n",
       "      <td>52.81</td>\n",
       "      <td>0</td>\n",
       "      <td>4616241</td>\n",
       "      <td>101</td>\n",
       "      <td>True</td>\n",
       "      <td>40.7613906,-73.83898</td>\n",
       "    </tr>\n",
       "    <tr>\n",
       "      <th>3442</th>\n",
       "      <td>Queens</td>\n",
       "      <td>2018-07-21T01:11:09.000</td>\n",
       "      <td>kdzwF`rsaMdFdKlEdGzIvHzHdEvAv@rBz@bATjAJdBAhAK...</td>\n",
       "      <td>BBBBBBBBBBBB</td>\n",
       "      <td>453</td>\n",
       "      <td>4616239</td>\n",
       "      <td>Whitestone Expwy S Exit 14 (Linden Pl) - VWE S...</td>\n",
       "      <td>40.7714206,-73.83345 40.7702704,-73.8354 40.76...</td>\n",
       "      <td>NYC_DOT_LIC</td>\n",
       "      <td>52.81</td>\n",
       "      <td>0</td>\n",
       "      <td>4616239</td>\n",
       "      <td>105</td>\n",
       "      <td>True</td>\n",
       "      <td>40.7702704,-73.8354</td>\n",
       "    </tr>\n",
       "    <tr>\n",
       "      <th>3443</th>\n",
       "      <td>Queens</td>\n",
       "      <td>2018-07-21T01:11:09.000</td>\n",
       "      <td>ajzwFtmdbMmHhLyBbCkEhDiQrLsOjKcOjKcCx@_DJmC[{A...</td>\n",
       "      <td>BBBBBBBBBBBBBBBBBBBBBBBB</td>\n",
       "      <td>394</td>\n",
       "      <td>4616225</td>\n",
       "      <td>TBB N QUEENS ANCHORAGE - BE N</td>\n",
       "      <td>40.7723304,-73.91979 40.77384,-73.92192 40.774...</td>\n",
       "      <td>NYC_DOT_LIC</td>\n",
       "      <td>14.91</td>\n",
       "      <td>0</td>\n",
       "      <td>4616225</td>\n",
       "      <td>481</td>\n",
       "      <td>True</td>\n",
       "      <td>40.77384,-73.92192</td>\n",
       "    </tr>\n",
       "  </tbody>\n",
       "</table>\n",
       "</div>"
      ],
      "text/plain": [
       "     borough               data_as_of  \\\n",
       "3439  Queens  2018-07-21T01:11:09.000   \n",
       "3440  Queens  2018-07-21T01:11:09.000   \n",
       "3441  Queens  2018-07-21T01:11:09.000   \n",
       "3442  Queens  2018-07-21T01:11:09.000   \n",
       "3443  Queens  2018-07-21T01:11:09.000   \n",
       "\n",
       "                                      encoded_poly_line  \\\n",
       "3439  iczwFlqsaMvBtEtBbEnChEvBfBxCdCnCjAjGtD`AZpBbAj...   \n",
       "3440  olxwFdwtaMpBu@jAg@|@Yr@MdAGhA@dH\\~@E|@GbMoAbCa...   \n",
       "3441  gmxwF|xtaMpFiCbAUdBOhBDrI\\tAGbM{A`BYrBm@hSwLpD...   \n",
       "3442  kdzwF`rsaMdFdKlEdGzIvHzHdEvAv@rBz@bATjAJdBAhAK...   \n",
       "3443  ajzwFtmdbMmHhLyBbCkEhDiQrLsOjKcOjKcCx@_DJmC[{A...   \n",
       "\n",
       "                            encoded_poly_line_lvls   id  link_id  \\\n",
       "3439                              BBBBBBBBBBBBBBBB  424  4616300   \n",
       "3440  BBBBBBBBBBBBBBBBBBBBBBBBBBBBBBBBBBBBBBBBBBBB  423  4616299   \n",
       "3441             BBBBBBBBBBBBBBBBBBBBBBBBBBBBBBBBB  428  4616241   \n",
       "3442                                  BBBBBBBBBBBB  453  4616239   \n",
       "3443                      BBBBBBBBBBBBBBBBBBBBBBBB  394  4616225   \n",
       "\n",
       "                                              link_name  \\\n",
       "3439  VWE N MP8.64 (Exit 13 Northern Blvd) - Whitest...   \n",
       "3440  VWE N MP6.39 (Exit 11 Jewel Ave) - MP8.65 (Exi...   \n",
       "3441  VWE S MP8.65 (Exit 13 Northern Blvd) - MP6.39 ...   \n",
       "3442  Whitestone Expwy S Exit 14 (Linden Pl) - VWE S...   \n",
       "3443                      TBB N QUEENS ANCHORAGE - BE N   \n",
       "\n",
       "                                            link_points        owner  speed  \\\n",
       "3439  40.77125,-73.833351 40.77065,-73.834421 40.770...  NYC_DOT_LIC  55.30   \n",
       "3440  40.7624804,-73.839391 40.76191,-73.839121 40.7...  NYC_DOT_LIC  55.30   \n",
       "3441  40.7626006,-73.839671 40.7613906,-73.83898 40....  NYC_DOT_LIC  52.81   \n",
       "3442  40.7714206,-73.83345 40.7702704,-73.8354 40.76...  NYC_DOT_LIC  52.81   \n",
       "3443  40.7723304,-73.91979 40.77384,-73.92192 40.774...  NYC_DOT_LIC  14.91   \n",
       "\n",
       "      status  transcom_id  travel_time  minutes            data_point  \n",
       "3439       0      4616300           96     True   40.77065,-73.834421  \n",
       "3440       0      4616299           97     True   40.76191,-73.839121  \n",
       "3441       0      4616241          101     True  40.7613906,-73.83898  \n",
       "3442       0      4616239          105     True   40.7702704,-73.8354  \n",
       "3443       0      4616225          481     True    40.77384,-73.92192  "
      ]
     },
     "execution_count": 3,
     "metadata": {},
     "output_type": "execute_result"
    }
   ],
   "source": [
    "traffic_data.tail()"
   ]
  },
  {
   "cell_type": "code",
   "execution_count": 4,
   "metadata": {},
   "outputs": [],
   "source": [
    "def round_near(x):\n",
    "    val = int(x[14:16])\n",
    "    if(val in (59,1)):\n",
    "        return x[0:14]+'00:00'\n",
    "    else:\n",
    "        return -1"
   ]
  },
  {
   "cell_type": "code",
   "execution_count": 5,
   "metadata": {},
   "outputs": [],
   "source": [
    "traffic_data['new_date'] = traffic_data['data_as_of'].apply(lambda x: round_near(x))"
   ]
  },
  {
   "cell_type": "code",
   "execution_count": 6,
   "metadata": {},
   "outputs": [],
   "source": [
    "temp = traffic_data[traffic_data['new_date'] != -1]"
   ]
  },
  {
   "cell_type": "code",
   "execution_count": 7,
   "metadata": {},
   "outputs": [],
   "source": [
    "temp.to_csv('cleaned_traffic_data.csv',index = False)"
   ]
  },
  {
   "cell_type": "code",
   "execution_count": 8,
   "metadata": {},
   "outputs": [
    {
     "data": {
      "text/plain": [
       "Index(['borough', 'data_as_of', 'encoded_poly_line', 'encoded_poly_line_lvls',\n",
       "       'id', 'link_id', 'link_name', 'link_points', 'owner', 'speed', 'status',\n",
       "       'transcom_id', 'travel_time', 'minutes', 'data_point', 'new_date'],\n",
       "      dtype='object')"
      ]
     },
     "execution_count": 8,
     "metadata": {},
     "output_type": "execute_result"
    }
   ],
   "source": [
    "traffic_data = temp\n",
    "traffic_data.columns"
   ]
  },
  {
   "cell_type": "code",
   "execution_count": 9,
   "metadata": {},
   "outputs": [],
   "source": [
    "poll_1 = pd.read_csv('pollution_and_traffic_data1_4.csv')\n",
    "poll_2 = pd.read_csv('pollution_and_traffic_data5_9.csv')\n",
    "poll_3 = pd.read_csv('pollution_and_traffic_data10_14.csv')\n",
    "poll_4 = pd.read_csv('pollution_and_traffic_data15_19.csv')"
   ]
  },
  {
   "cell_type": "code",
   "execution_count": 10,
   "metadata": {},
   "outputs": [],
   "source": [
    "poll = poll_1.append(poll_2,ignore_index=True)\n",
    "poll = poll.append(poll_3,ignore_index=True)\n",
    "poll = poll.append(poll_4,ignore_index=True)"
   ]
  },
  {
   "cell_type": "code",
   "execution_count": 11,
   "metadata": {},
   "outputs": [],
   "source": [
    "poll.to_csv('latest_pollution_data.csv',index = False)"
   ]
  },
  {
   "cell_type": "code",
   "execution_count": 12,
   "metadata": {},
   "outputs": [],
   "source": [
    "traffic_data['data_point'] = traffic_data['data_point'].apply(lambda x:[float(i) for i in x.split(',')])"
   ]
  },
  {
   "cell_type": "code",
   "execution_count": 13,
   "metadata": {},
   "outputs": [],
   "source": [
    "traffic_data[['lat','long']] = pd.DataFrame(traffic_data.data_point.values.tolist(), index= traffic_data.index)"
   ]
  },
  {
   "cell_type": "code",
   "execution_count": 14,
   "metadata": {},
   "outputs": [
    {
     "data": {
      "text/html": [
       "<div>\n",
       "<style scoped>\n",
       "    .dataframe tbody tr th:only-of-type {\n",
       "        vertical-align: middle;\n",
       "    }\n",
       "\n",
       "    .dataframe tbody tr th {\n",
       "        vertical-align: top;\n",
       "    }\n",
       "\n",
       "    .dataframe thead th {\n",
       "        text-align: right;\n",
       "    }\n",
       "</style>\n",
       "<table border=\"1\" class=\"dataframe\">\n",
       "  <thead>\n",
       "    <tr style=\"text-align: right;\">\n",
       "      <th></th>\n",
       "      <th>borough</th>\n",
       "      <th>data_as_of</th>\n",
       "      <th>encoded_poly_line</th>\n",
       "      <th>encoded_poly_line_lvls</th>\n",
       "      <th>id</th>\n",
       "      <th>link_id</th>\n",
       "      <th>link_name</th>\n",
       "      <th>link_points</th>\n",
       "      <th>owner</th>\n",
       "      <th>speed</th>\n",
       "      <th>status</th>\n",
       "      <th>transcom_id</th>\n",
       "      <th>travel_time</th>\n",
       "      <th>minutes</th>\n",
       "      <th>data_point</th>\n",
       "      <th>new_date</th>\n",
       "      <th>lat</th>\n",
       "      <th>long</th>\n",
       "    </tr>\n",
       "  </thead>\n",
       "  <tbody>\n",
       "    <tr>\n",
       "      <th>3347</th>\n",
       "      <td>Queens</td>\n",
       "      <td>2018-07-19T15:01:08.000</td>\n",
       "      <td>ar}wFzekaMDaEy@kJeA}LKkDV_O\\iEr@{FzAiGtA}DnBsE...</td>\n",
       "      <td>BBBBBBBBBBBBBBBBBBBBBBBBBBBBBBBBBBBBBBBBBBBBBB...</td>\n",
       "      <td>206</td>\n",
       "      <td>4362252</td>\n",
       "      <td>CIP N LIE ramp - TNB</td>\n",
       "      <td>40.7889706,-73.790541 40.7889404,-73.789571 40...</td>\n",
       "      <td>NYC-DOT-Region 10</td>\n",
       "      <td>0.00</td>\n",
       "      <td>-101</td>\n",
       "      <td>4362252</td>\n",
       "      <td>0</td>\n",
       "      <td>True</td>\n",
       "      <td>[40.7889404, -73.789571]</td>\n",
       "      <td>2018-07-19T15:00:00</td>\n",
       "      <td>40.788940</td>\n",
       "      <td>-73.789571</td>\n",
       "    </tr>\n",
       "    <tr>\n",
       "      <th>3348</th>\n",
       "      <td>Queens</td>\n",
       "      <td>2018-07-19T15:01:08.000</td>\n",
       "      <td>}uvwFlebaMkMcUcIkNoH}N}AeEaAaEqC_KqAuDaCsE_EgH...</td>\n",
       "      <td>BBBBBBBBBBBBBB</td>\n",
       "      <td>319</td>\n",
       "      <td>4362251</td>\n",
       "      <td>LIE WB LITTLE NECK PKWY - NB CVE</td>\n",
       "      <td>40.7537504,-73.744391 40.75605,-73.740851 40.7...</td>\n",
       "      <td>NYC-DOT-Region 10</td>\n",
       "      <td>41.01</td>\n",
       "      <td>0</td>\n",
       "      <td>4362251</td>\n",
       "      <td>232</td>\n",
       "      <td>True</td>\n",
       "      <td>[40.75605, -73.740851]</td>\n",
       "      <td>2018-07-19T15:00:00</td>\n",
       "      <td>40.756050</td>\n",
       "      <td>-73.740851</td>\n",
       "    </tr>\n",
       "    <tr>\n",
       "      <th>3349</th>\n",
       "      <td>Queens</td>\n",
       "      <td>2018-07-19T15:01:08.000</td>\n",
       "      <td>kztwFzogaMqFeOu@wC_DeQcFwXyAoF{CkIaAmDu@aEiDeT...</td>\n",
       "      <td>BBBBBBBBBBBBBBBBBBBBBBBBBBBBBB</td>\n",
       "      <td>318</td>\n",
       "      <td>4362249</td>\n",
       "      <td>LIE WB LITTLE NECK PKWY - NB CIP</td>\n",
       "      <td>40.7442206,-73.771661 40.7454306,-73.76907 40....</td>\n",
       "      <td>NYC-DOT-Region 10</td>\n",
       "      <td>0.00</td>\n",
       "      <td>-101</td>\n",
       "      <td>4362249</td>\n",
       "      <td>0</td>\n",
       "      <td>True</td>\n",
       "      <td>[40.7454306, -73.76907]</td>\n",
       "      <td>2018-07-19T15:00:00</td>\n",
       "      <td>40.745431</td>\n",
       "      <td>-73.769070</td>\n",
       "    </tr>\n",
       "    <tr>\n",
       "      <th>3350</th>\n",
       "      <td>Queens</td>\n",
       "      <td>2018-07-19T15:01:08.000</td>\n",
       "      <td>em}wFvekaMwByHaAwFy@kKMyFLaK`@uGv@wFrA{FxAiElB...</td>\n",
       "      <td>BBBBBBBBBBBBBBBBBBBBBBBBBBBBBBBBBBBBBBBBBBBBBB...</td>\n",
       "      <td>205</td>\n",
       "      <td>4362247</td>\n",
       "      <td>CIP NB GCP - TNB</td>\n",
       "      <td>40.78819,-73.79052 40.7887906,-73.78895 40.789...</td>\n",
       "      <td>NYC-DOT-Region 10</td>\n",
       "      <td>0.00</td>\n",
       "      <td>-101</td>\n",
       "      <td>4362247</td>\n",
       "      <td>0</td>\n",
       "      <td>True</td>\n",
       "      <td>[40.7887906, -73.78895]</td>\n",
       "      <td>2018-07-19T15:00:00</td>\n",
       "      <td>40.788791</td>\n",
       "      <td>-73.788950</td>\n",
       "    </tr>\n",
       "    <tr>\n",
       "      <th>3351</th>\n",
       "      <td>Queens</td>\n",
       "      <td>2018-07-19T15:01:08.000</td>\n",
       "      <td>cl}wFtbkaMfFiIdByBrD{DtAeAj@_@nA}@|BcAvBy@hBc@...</td>\n",
       "      <td>BBBBBBBBBBBBBBBBBBBBBBBBBBBBBBBBBBBBBBBBBBBBBB...</td>\n",
       "      <td>212</td>\n",
       "      <td>4362244</td>\n",
       "      <td>CVE NB LIE - WILLETS PT BLVD</td>\n",
       "      <td>40.78802,-73.79003 40.7868604,-73.78838 40.786...</td>\n",
       "      <td>NYC-DOT-Region 10</td>\n",
       "      <td>41.01</td>\n",
       "      <td>0</td>\n",
       "      <td>4362244</td>\n",
       "      <td>264</td>\n",
       "      <td>True</td>\n",
       "      <td>[40.7868604, -73.78838]</td>\n",
       "      <td>2018-07-19T15:00:00</td>\n",
       "      <td>40.786860</td>\n",
       "      <td>-73.788380</td>\n",
       "    </tr>\n",
       "  </tbody>\n",
       "</table>\n",
       "</div>"
      ],
      "text/plain": [
       "     borough               data_as_of  \\\n",
       "3347  Queens  2018-07-19T15:01:08.000   \n",
       "3348  Queens  2018-07-19T15:01:08.000   \n",
       "3349  Queens  2018-07-19T15:01:08.000   \n",
       "3350  Queens  2018-07-19T15:01:08.000   \n",
       "3351  Queens  2018-07-19T15:01:08.000   \n",
       "\n",
       "                                      encoded_poly_line  \\\n",
       "3347  ar}wFzekaMDaEy@kJeA}LKkDV_O\\iEr@{FzAiGtA}DnBsE...   \n",
       "3348  }uvwFlebaMkMcUcIkNoH}N}AeEaAaEqC_KqAuDaCsE_EgH...   \n",
       "3349  kztwFzogaMqFeOu@wC_DeQcFwXyAoF{CkIaAmDu@aEiDeT...   \n",
       "3350  em}wFvekaMwByHaAwFy@kKMyFLaK`@uGv@wFrA{FxAiElB...   \n",
       "3351  cl}wFtbkaMfFiIdByBrD{DtAeAj@_@nA}@|BcAvBy@hBc@...   \n",
       "\n",
       "                                 encoded_poly_line_lvls   id  link_id  \\\n",
       "3347  BBBBBBBBBBBBBBBBBBBBBBBBBBBBBBBBBBBBBBBBBBBBBB...  206  4362252   \n",
       "3348                                     BBBBBBBBBBBBBB  319  4362251   \n",
       "3349                     BBBBBBBBBBBBBBBBBBBBBBBBBBBBBB  318  4362249   \n",
       "3350  BBBBBBBBBBBBBBBBBBBBBBBBBBBBBBBBBBBBBBBBBBBBBB...  205  4362247   \n",
       "3351  BBBBBBBBBBBBBBBBBBBBBBBBBBBBBBBBBBBBBBBBBBBBBB...  212  4362244   \n",
       "\n",
       "                             link_name  \\\n",
       "3347              CIP N LIE ramp - TNB   \n",
       "3348  LIE WB LITTLE NECK PKWY - NB CVE   \n",
       "3349  LIE WB LITTLE NECK PKWY - NB CIP   \n",
       "3350                  CIP NB GCP - TNB   \n",
       "3351      CVE NB LIE - WILLETS PT BLVD   \n",
       "\n",
       "                                            link_points              owner  \\\n",
       "3347  40.7889706,-73.790541 40.7889404,-73.789571 40...  NYC-DOT-Region 10   \n",
       "3348  40.7537504,-73.744391 40.75605,-73.740851 40.7...  NYC-DOT-Region 10   \n",
       "3349  40.7442206,-73.771661 40.7454306,-73.76907 40....  NYC-DOT-Region 10   \n",
       "3350  40.78819,-73.79052 40.7887906,-73.78895 40.789...  NYC-DOT-Region 10   \n",
       "3351  40.78802,-73.79003 40.7868604,-73.78838 40.786...  NYC-DOT-Region 10   \n",
       "\n",
       "      speed  status  transcom_id  travel_time  minutes  \\\n",
       "3347   0.00    -101      4362252            0     True   \n",
       "3348  41.01       0      4362251          232     True   \n",
       "3349   0.00    -101      4362249            0     True   \n",
       "3350   0.00    -101      4362247            0     True   \n",
       "3351  41.01       0      4362244          264     True   \n",
       "\n",
       "                    data_point             new_date        lat       long  \n",
       "3347  [40.7889404, -73.789571]  2018-07-19T15:00:00  40.788940 -73.789571  \n",
       "3348    [40.75605, -73.740851]  2018-07-19T15:00:00  40.756050 -73.740851  \n",
       "3349   [40.7454306, -73.76907]  2018-07-19T15:00:00  40.745431 -73.769070  \n",
       "3350   [40.7887906, -73.78895]  2018-07-19T15:00:00  40.788791 -73.788950  \n",
       "3351   [40.7868604, -73.78838]  2018-07-19T15:00:00  40.786860 -73.788380  "
      ]
     },
     "execution_count": 14,
     "metadata": {},
     "output_type": "execute_result"
    }
   ],
   "source": [
    "traffic_data.tail()"
   ]
  },
  {
   "cell_type": "code",
   "execution_count": 15,
   "metadata": {},
   "outputs": [
    {
     "data": {
      "text/plain": [
       "Index(['datetime', 'lat', 'long', 'co', 'no2', 'o3', 'pm10', 'pm25', 'so2'], dtype='object')"
      ]
     },
     "execution_count": 15,
     "metadata": {},
     "output_type": "execute_result"
    }
   ],
   "source": [
    "poll.columns"
   ]
  },
  {
   "cell_type": "code",
   "execution_count": 16,
   "metadata": {},
   "outputs": [],
   "source": [
    "traffic_data = traffic_data[['new_date','lat','long','speed']]"
   ]
  },
  {
   "cell_type": "code",
   "execution_count": 17,
   "metadata": {},
   "outputs": [],
   "source": [
    "traffic_data.to_csv(\"cleaned_traffic_data.csv\",index = False)"
   ]
  },
  {
   "cell_type": "code",
   "execution_count": 18,
   "metadata": {},
   "outputs": [],
   "source": [
    "temp = pd.read_csv('cleaned_traffic_data.csv')"
   ]
  },
  {
   "cell_type": "code",
   "execution_count": 19,
   "metadata": {},
   "outputs": [],
   "source": [
    "temp['datetime_new_date'] = temp['new_date'].apply(lambda x : datetime.strptime(x,'%Y-%m-%dT%H:%M:%S'))"
   ]
  },
  {
   "cell_type": "code",
   "execution_count": 20,
   "metadata": {},
   "outputs": [],
   "source": [
    "traffic_data['datetime'] = traffic_data['new_date']"
   ]
  },
  {
   "cell_type": "code",
   "execution_count": 21,
   "metadata": {},
   "outputs": [],
   "source": [
    "combined = traffic_data.merge(poll,on=['datetime','lat','long'])"
   ]
  },
  {
   "cell_type": "code",
   "execution_count": 22,
   "metadata": {},
   "outputs": [
    {
     "data": {
      "text/plain": [
       "158"
      ]
     },
     "execution_count": 22,
     "metadata": {},
     "output_type": "execute_result"
    }
   ],
   "source": [
    "len(combined)"
   ]
  },
  {
   "cell_type": "code",
   "execution_count": 23,
   "metadata": {},
   "outputs": [],
   "source": [
    "combined.to_csv('combined.csv',index = False)"
   ]
  },
  {
   "cell_type": "code",
   "execution_count": 24,
   "metadata": {},
   "outputs": [],
   "source": [
    "a=combined.groupby(['lat','long'])"
   ]
  },
  {
   "cell_type": "code",
   "execution_count": 25,
   "metadata": {},
   "outputs": [],
   "source": [
    "def normalize(x):\n",
    "    col = ['no2','o3','pm10','pm25','so2','co']\n",
    "    for c in col:\n",
    "        x[c+'_normal'] = (x[c]-x[c].mean())/(x[c].var())\n",
    "        x['lat'] = x['lat']\n",
    "        x['long'] = x['long']\n",
    "        x['datetime'] = x['datetime']\n",
    "    return x"
   ]
  },
  {
   "cell_type": "code",
   "execution_count": 26,
   "metadata": {},
   "outputs": [],
   "source": [
    "res = a.apply(lambda x:normalize(x))"
   ]
  },
  {
   "cell_type": "code",
   "execution_count": 27,
   "metadata": {},
   "outputs": [],
   "source": [
    "res = res.dropna()"
   ]
  },
  {
   "cell_type": "code",
   "execution_count": 28,
   "metadata": {},
   "outputs": [
    {
     "data": {
      "text/plain": [
       "137"
      ]
     },
     "execution_count": 28,
     "metadata": {},
     "output_type": "execute_result"
    }
   ],
   "source": [
    "len(res)"
   ]
  },
  {
   "cell_type": "code",
   "execution_count": 29,
   "metadata": {},
   "outputs": [],
   "source": [
    "res.to_csv('combined_normalized.csv',index = False)"
   ]
  },
  {
   "cell_type": "code",
   "execution_count": 30,
   "metadata": {},
   "outputs": [
    {
     "data": {
      "image/png": "[encoded data removed]",
      "text/plain": [
       "<Figure size 432x288 with 1 Axes>"
      ]
     },
     "metadata": {},
     "output_type": "display_data"
    }
   ],
   "source": [
    "plt.scatter(res['speed'],res['no2_normal'])\n",
    "plt.xlabel('speed')\n",
    "plt.ylabel('val')\n",
    "plt.show()"
   ]
  },
  {
   "cell_type": "code",
   "execution_count": 31,
   "metadata": {},
   "outputs": [
    {
     "data": {
      "text/html": [
       "<div>\n",
       "<style scoped>\n",
       "    .dataframe tbody tr th:only-of-type {\n",
       "        vertical-align: middle;\n",
       "    }\n",
       "\n",
       "    .dataframe tbody tr th {\n",
       "        vertical-align: top;\n",
       "    }\n",
       "\n",
       "    .dataframe thead th {\n",
       "        text-align: right;\n",
       "    }\n",
       "</style>\n",
       "<table border=\"1\" class=\"dataframe\">\n",
       "  <thead>\n",
       "    <tr style=\"text-align: right;\">\n",
       "      <th></th>\n",
       "      <th></th>\n",
       "      <th>co</th>\n",
       "      <th>no2</th>\n",
       "      <th>pm10</th>\n",
       "      <th>pm25</th>\n",
       "    </tr>\n",
       "    <tr>\n",
       "      <th>lat</th>\n",
       "      <th>long</th>\n",
       "      <th></th>\n",
       "      <th></th>\n",
       "      <th></th>\n",
       "      <th></th>\n",
       "    </tr>\n",
       "  </thead>\n",
       "  <tbody>\n",
       "    <tr>\n",
       "      <th>40.665790</th>\n",
       "      <th>-73.757060</th>\n",
       "      <td>250.672857</td>\n",
       "      <td>34.139048</td>\n",
       "      <td>41.120476</td>\n",
       "      <td>16.432381</td>\n",
       "    </tr>\n",
       "    <tr>\n",
       "      <th>40.666420</th>\n",
       "      <th>-73.789580</th>\n",
       "      <td>247.312500</td>\n",
       "      <td>45.842500</td>\n",
       "      <td>55.180000</td>\n",
       "      <td>15.865000</td>\n",
       "    </tr>\n",
       "    <tr>\n",
       "      <th>40.673740</th>\n",
       "      <th>-73.801540</th>\n",
       "      <td>238.917500</td>\n",
       "      <td>34.765833</td>\n",
       "      <td>46.719167</td>\n",
       "      <td>15.570833</td>\n",
       "    </tr>\n",
       "    <tr>\n",
       "      <th>40.692360</th>\n",
       "      <th>-73.999390</th>\n",
       "      <td>254.403333</td>\n",
       "      <td>30.540000</td>\n",
       "      <td>49.853333</td>\n",
       "      <td>16.066667</td>\n",
       "    </tr>\n",
       "    <tr>\n",
       "      <th>40.700841</th>\n",
       "      <th>-73.815751</th>\n",
       "      <td>243.440000</td>\n",
       "      <td>45.843333</td>\n",
       "      <td>63.756667</td>\n",
       "      <td>19.543333</td>\n",
       "    </tr>\n",
       "    <tr>\n",
       "      <th>40.701580</th>\n",
       "      <th>-73.990330</th>\n",
       "      <td>337.406667</td>\n",
       "      <td>46.293333</td>\n",
       "      <td>62.796667</td>\n",
       "      <td>17.060000</td>\n",
       "    </tr>\n",
       "    <tr>\n",
       "      <th>40.708950</th>\n",
       "      <th>-73.996941</th>\n",
       "      <td>300.353333</td>\n",
       "      <td>25.615000</td>\n",
       "      <td>44.703333</td>\n",
       "      <td>17.316667</td>\n",
       "    </tr>\n",
       "    <tr>\n",
       "      <th>40.730165</th>\n",
       "      <th>-73.876430</th>\n",
       "      <td>284.695000</td>\n",
       "      <td>26.485000</td>\n",
       "      <td>51.447500</td>\n",
       "      <td>18.117500</td>\n",
       "    </tr>\n",
       "    <tr>\n",
       "      <th>40.737015</th>\n",
       "      <th>-73.853730</th>\n",
       "      <td>265.780000</td>\n",
       "      <td>33.270000</td>\n",
       "      <td>65.505000</td>\n",
       "      <td>20.605000</td>\n",
       "    </tr>\n",
       "    <tr>\n",
       "      <th>40.738680</th>\n",
       "      <th>-73.973391</th>\n",
       "      <td>247.835000</td>\n",
       "      <td>43.015000</td>\n",
       "      <td>55.985000</td>\n",
       "      <td>16.940000</td>\n",
       "    </tr>\n",
       "    <tr>\n",
       "      <th>40.738950</th>\n",
       "      <th>-74.010120</th>\n",
       "      <td>241.343684</td>\n",
       "      <td>24.520000</td>\n",
       "      <td>37.114737</td>\n",
       "      <td>14.381579</td>\n",
       "    </tr>\n",
       "    <tr>\n",
       "      <th>40.741370</th>\n",
       "      <th>-74.008930</th>\n",
       "      <td>253.640000</td>\n",
       "      <td>28.361429</td>\n",
       "      <td>42.461905</td>\n",
       "      <td>16.715238</td>\n",
       "    </tr>\n",
       "    <tr>\n",
       "      <th>40.756050</th>\n",
       "      <th>-73.740851</th>\n",
       "      <td>272.325000</td>\n",
       "      <td>42.560000</td>\n",
       "      <td>53.500000</td>\n",
       "      <td>17.615000</td>\n",
       "    </tr>\n",
       "    <tr>\n",
       "      <th>40.760400</th>\n",
       "      <th>-74.003280</th>\n",
       "      <td>329.410000</td>\n",
       "      <td>55.750000</td>\n",
       "      <td>71.385000</td>\n",
       "      <td>19.700000</td>\n",
       "    </tr>\n",
       "    <tr>\n",
       "      <th>40.762120</th>\n",
       "      <th>-74.910000</th>\n",
       "      <td>230.667143</td>\n",
       "      <td>5.306667</td>\n",
       "      <td>16.786667</td>\n",
       "      <td>8.610476</td>\n",
       "    </tr>\n",
       "    <tr>\n",
       "      <th>40.771900</th>\n",
       "      <th>-73.994010</th>\n",
       "      <td>310.650000</td>\n",
       "      <td>46.820000</td>\n",
       "      <td>72.365000</td>\n",
       "      <td>16.900000</td>\n",
       "    </tr>\n",
       "    <tr>\n",
       "      <th>40.786860</th>\n",
       "      <th>-73.788380</th>\n",
       "      <td>269.360000</td>\n",
       "      <td>41.300000</td>\n",
       "      <td>44.605000</td>\n",
       "      <td>17.105000</td>\n",
       "    </tr>\n",
       "    <tr>\n",
       "      <th>40.788791</th>\n",
       "      <th>-73.788950</th>\n",
       "      <td>269.360000</td>\n",
       "      <td>41.300000</td>\n",
       "      <td>44.605000</td>\n",
       "      <td>17.105000</td>\n",
       "    </tr>\n",
       "    <tr>\n",
       "      <th>40.788940</th>\n",
       "      <th>-73.789571</th>\n",
       "      <td>269.360000</td>\n",
       "      <td>41.300000</td>\n",
       "      <td>44.605000</td>\n",
       "      <td>17.105000</td>\n",
       "    </tr>\n",
       "    <tr>\n",
       "      <th>40.793425</th>\n",
       "      <th>-73.793440</th>\n",
       "      <td>269.140000</td>\n",
       "      <td>40.355000</td>\n",
       "      <td>41.375000</td>\n",
       "      <td>12.475000</td>\n",
       "    </tr>\n",
       "  </tbody>\n",
       "</table>\n",
       "</div>"
      ],
      "text/plain": [
       "                              co        no2       pm10       pm25\n",
       "lat       long                                                   \n",
       "40.665790 -73.757060  250.672857  34.139048  41.120476  16.432381\n",
       "40.666420 -73.789580  247.312500  45.842500  55.180000  15.865000\n",
       "40.673740 -73.801540  238.917500  34.765833  46.719167  15.570833\n",
       "40.692360 -73.999390  254.403333  30.540000  49.853333  16.066667\n",
       "40.700841 -73.815751  243.440000  45.843333  63.756667  19.543333\n",
       "40.701580 -73.990330  337.406667  46.293333  62.796667  17.060000\n",
       "40.708950 -73.996941  300.353333  25.615000  44.703333  17.316667\n",
       "40.730165 -73.876430  284.695000  26.485000  51.447500  18.117500\n",
       "40.737015 -73.853730  265.780000  33.270000  65.505000  20.605000\n",
       "40.738680 -73.973391  247.835000  43.015000  55.985000  16.940000\n",
       "40.738950 -74.010120  241.343684  24.520000  37.114737  14.381579\n",
       "40.741370 -74.008930  253.640000  28.361429  42.461905  16.715238\n",
       "40.756050 -73.740851  272.325000  42.560000  53.500000  17.615000\n",
       "40.760400 -74.003280  329.410000  55.750000  71.385000  19.700000\n",
       "40.762120 -74.910000  230.667143   5.306667  16.786667   8.610476\n",
       "40.771900 -73.994010  310.650000  46.820000  72.365000  16.900000\n",
       "40.786860 -73.788380  269.360000  41.300000  44.605000  17.105000\n",
       "40.788791 -73.788950  269.360000  41.300000  44.605000  17.105000\n",
       "40.788940 -73.789571  269.360000  41.300000  44.605000  17.105000\n",
       "40.793425 -73.793440  269.140000  40.355000  41.375000  12.475000"
      ]
     },
     "execution_count": 31,
     "metadata": {},
     "output_type": "execute_result"
    }
   ],
   "source": [
    "res[['lat','long','co','no2','pm10','pm25']].groupby(['lat','long']).mean()"
   ]
  },
  {
   "cell_type": "code",
   "execution_count": 32,
   "metadata": {},
   "outputs": [],
   "source": [
    "res.groupby(['lat','long']).get_group((40.76212,-74.9100000)).to_csv(\"group_40.665790_73.757060_normalized.csv\",index = False)"
   ]
  },
  {
   "cell_type": "code",
   "execution_count": 33,
   "metadata": {},
   "outputs": [],
   "source": [
    "one = res.groupby(['lat','long']).get_group((40.66579,-73.757060))\n",
    "two = res.groupby(['lat','long']).get_group((40.74137,-74.008930))\n",
    "three = res.groupby(['lat','long']).get_group((40.76212,-74.9100000))"
   ]
  },
  {
   "cell_type": "code",
   "execution_count": 34,
   "metadata": {},
   "outputs": [
    {
     "data": {
      "image/png": "[encoded data removed]",
      "text/plain": [
       "<Figure size 432x288 with 1 Axes>"
      ]
     },
     "metadata": {},
     "output_type": "display_data"
    }
   ],
   "source": [
    "plt.scatter(one['speed'],one['no2'])\n",
    "plt.show()"
   ]
  },
  {
   "cell_type": "code",
   "execution_count": 35,
   "metadata": {},
   "outputs": [
    {
     "data": {
      "image/png": "[encoded data removed]",
      "text/plain": [
       "<Figure size 432x288 with 1 Axes>"
      ]
     },
     "metadata": {},
     "output_type": "display_data"
    }
   ],
   "source": [
    "plt.scatter(two['speed'],two['no2'])\n",
    "plt.show()"
   ]
  },
  {
   "cell_type": "code",
   "execution_count": 36,
   "metadata": {},
   "outputs": [
    {
     "data": {
      "image/png": "[encoded data removed]",
      "text/plain": [
       "<Figure size 432x288 with 1 Axes>"
      ]
     },
     "metadata": {},
     "output_type": "display_data"
    }
   ],
   "source": [
    "plt.scatter(three['speed'],three['pm25'])\n",
    "plt.show()"
   ]
  },
  {
   "cell_type": "code",
   "execution_count": 37,
   "metadata": {},
   "outputs": [],
   "source": [
    "ml = res"
   ]
  },
  {
   "cell_type": "code",
   "execution_count": 38,
   "metadata": {},
   "outputs": [
    {
     "data": {
      "text/html": [
       "<div>\n",
       "<style scoped>\n",
       "    .dataframe tbody tr th:only-of-type {\n",
       "        vertical-align: middle;\n",
       "    }\n",
       "\n",
       "    .dataframe tbody tr th {\n",
       "        vertical-align: top;\n",
       "    }\n",
       "\n",
       "    .dataframe thead th {\n",
       "        text-align: right;\n",
       "    }\n",
       "</style>\n",
       "<table border=\"1\" class=\"dataframe\">\n",
       "  <thead>\n",
       "    <tr style=\"text-align: right;\">\n",
       "      <th></th>\n",
       "      <th>new_date</th>\n",
       "      <th>lat</th>\n",
       "      <th>long</th>\n",
       "      <th>speed</th>\n",
       "      <th>datetime</th>\n",
       "      <th>co</th>\n",
       "      <th>no2</th>\n",
       "      <th>o3</th>\n",
       "      <th>pm10</th>\n",
       "      <th>pm25</th>\n",
       "      <th>so2</th>\n",
       "      <th>no2_normal</th>\n",
       "      <th>o3_normal</th>\n",
       "      <th>pm10_normal</th>\n",
       "      <th>pm25_normal</th>\n",
       "      <th>so2_normal</th>\n",
       "      <th>co_normal</th>\n",
       "    </tr>\n",
       "  </thead>\n",
       "  <tbody>\n",
       "    <tr>\n",
       "      <th>0</th>\n",
       "      <td>2018-07-01T05:00:00</td>\n",
       "      <td>40.771900</td>\n",
       "      <td>-73.99401</td>\n",
       "      <td>0.00</td>\n",
       "      <td>2018-07-01T05:00:00</td>\n",
       "      <td>379.68</td>\n",
       "      <td>61.11</td>\n",
       "      <td>24.14</td>\n",
       "      <td>79.55</td>\n",
       "      <td>19.58</td>\n",
       "      <td>0.08</td>\n",
       "      <td>0.034990</td>\n",
       "      <td>-0.058173</td>\n",
       "      <td>0.069589</td>\n",
       "      <td>0.186567</td>\n",
       "      <td>-0.793651</td>\n",
       "      <td>0.007243</td>\n",
       "    </tr>\n",
       "    <tr>\n",
       "      <th>1</th>\n",
       "      <td>2018-07-01T05:00:00</td>\n",
       "      <td>40.760400</td>\n",
       "      <td>-74.00328</td>\n",
       "      <td>39.14</td>\n",
       "      <td>2018-07-01T05:00:00</td>\n",
       "      <td>403.08</td>\n",
       "      <td>66.22</td>\n",
       "      <td>24.74</td>\n",
       "      <td>67.38</td>\n",
       "      <td>21.38</td>\n",
       "      <td>0.08</td>\n",
       "      <td>0.047755</td>\n",
       "      <td>-0.057339</td>\n",
       "      <td>-0.124844</td>\n",
       "      <td>0.297619</td>\n",
       "      <td>-0.763359</td>\n",
       "      <td>0.006787</td>\n",
       "    </tr>\n",
       "    <tr>\n",
       "      <th>2</th>\n",
       "      <td>2018-07-01T05:00:00</td>\n",
       "      <td>40.701580</td>\n",
       "      <td>-73.99033</td>\n",
       "      <td>33.55</td>\n",
       "      <td>2018-07-01T05:00:00</td>\n",
       "      <td>412.11</td>\n",
       "      <td>66.61</td>\n",
       "      <td>26.70</td>\n",
       "      <td>79.33</td>\n",
       "      <td>20.09</td>\n",
       "      <td>0.07</td>\n",
       "      <td>0.063967</td>\n",
       "      <td>0.103810</td>\n",
       "      <td>0.064585</td>\n",
       "      <td>0.118400</td>\n",
       "      <td>-1.574803</td>\n",
       "      <td>0.017840</td>\n",
       "    </tr>\n",
       "    <tr>\n",
       "      <th>3</th>\n",
       "      <td>2018-07-01T05:00:00</td>\n",
       "      <td>40.730165</td>\n",
       "      <td>-73.87643</td>\n",
       "      <td>0.00</td>\n",
       "      <td>2018-07-01T05:00:00</td>\n",
       "      <td>367.80</td>\n",
       "      <td>44.23</td>\n",
       "      <td>29.70</td>\n",
       "      <td>64.86</td>\n",
       "      <td>24.42</td>\n",
       "      <td>0.07</td>\n",
       "      <td>0.105658</td>\n",
       "      <td>-0.042593</td>\n",
       "      <td>0.052108</td>\n",
       "      <td>0.211179</td>\n",
       "      <td>-1.549240</td>\n",
       "      <td>0.020652</td>\n",
       "    </tr>\n",
       "    <tr>\n",
       "      <th>4</th>\n",
       "      <td>2018-07-02T06:00:00</td>\n",
       "      <td>40.665790</td>\n",
       "      <td>-73.75706</td>\n",
       "      <td>31.68</td>\n",
       "      <td>2018-07-02T06:00:00</td>\n",
       "      <td>414.54</td>\n",
       "      <td>39.52</td>\n",
       "      <td>14.46</td>\n",
       "      <td>63.54</td>\n",
       "      <td>29.13</td>\n",
       "      <td>0.83</td>\n",
       "      <td>0.105083</td>\n",
       "      <td>-0.145399</td>\n",
       "      <td>0.089890</td>\n",
       "      <td>0.411272</td>\n",
       "      <td>7.326500</td>\n",
       "      <td>0.016909</td>\n",
       "    </tr>\n",
       "  </tbody>\n",
       "</table>\n",
       "</div>"
      ],
      "text/plain": [
       "              new_date        lat      long  speed             datetime  \\\n",
       "0  2018-07-01T05:00:00  40.771900 -73.99401   0.00  2018-07-01T05:00:00   \n",
       "1  2018-07-01T05:00:00  40.760400 -74.00328  39.14  2018-07-01T05:00:00   \n",
       "2  2018-07-01T05:00:00  40.701580 -73.99033  33.55  2018-07-01T05:00:00   \n",
       "3  2018-07-01T05:00:00  40.730165 -73.87643   0.00  2018-07-01T05:00:00   \n",
       "4  2018-07-02T06:00:00  40.665790 -73.75706  31.68  2018-07-02T06:00:00   \n",
       "\n",
       "       co    no2     o3   pm10   pm25   so2  no2_normal  o3_normal  \\\n",
       "0  379.68  61.11  24.14  79.55  19.58  0.08    0.034990  -0.058173   \n",
       "1  403.08  66.22  24.74  67.38  21.38  0.08    0.047755  -0.057339   \n",
       "2  412.11  66.61  26.70  79.33  20.09  0.07    0.063967   0.103810   \n",
       "3  367.80  44.23  29.70  64.86  24.42  0.07    0.105658  -0.042593   \n",
       "4  414.54  39.52  14.46  63.54  29.13  0.83    0.105083  -0.145399   \n",
       "\n",
       "   pm10_normal  pm25_normal  so2_normal  co_normal  \n",
       "0     0.069589     0.186567   -0.793651   0.007243  \n",
       "1    -0.124844     0.297619   -0.763359   0.006787  \n",
       "2     0.064585     0.118400   -1.574803   0.017840  \n",
       "3     0.052108     0.211179   -1.549240   0.020652  \n",
       "4     0.089890     0.411272    7.326500   0.016909  "
      ]
     },
     "execution_count": 38,
     "metadata": {},
     "output_type": "execute_result"
    }
   ],
   "source": [
    "ml.head()"
   ]
  },
  {
   "cell_type": "code",
   "execution_count": 39,
   "metadata": {},
   "outputs": [
    {
     "data": {
      "text/html": [
       "<div>\n",
       "<style scoped>\n",
       "    .dataframe tbody tr th:only-of-type {\n",
       "        vertical-align: middle;\n",
       "    }\n",
       "\n",
       "    .dataframe tbody tr th {\n",
       "        vertical-align: top;\n",
       "    }\n",
       "\n",
       "    .dataframe thead th {\n",
       "        text-align: right;\n",
       "    }\n",
       "</style>\n",
       "<table border=\"1\" class=\"dataframe\">\n",
       "  <thead>\n",
       "    <tr style=\"text-align: right;\">\n",
       "      <th></th>\n",
       "      <th>lat</th>\n",
       "      <th>long</th>\n",
       "      <th>speed</th>\n",
       "      <th>co</th>\n",
       "      <th>no2</th>\n",
       "      <th>o3</th>\n",
       "      <th>pm10</th>\n",
       "      <th>pm25</th>\n",
       "      <th>so2</th>\n",
       "      <th>no2_normal</th>\n",
       "      <th>o3_normal</th>\n",
       "      <th>pm10_normal</th>\n",
       "      <th>pm25_normal</th>\n",
       "      <th>so2_normal</th>\n",
       "      <th>co_normal</th>\n",
       "    </tr>\n",
       "  </thead>\n",
       "  <tbody>\n",
       "    <tr>\n",
       "      <th>count</th>\n",
       "      <td>137.000000</td>\n",
       "      <td>137.000000</td>\n",
       "      <td>137.000000</td>\n",
       "      <td>137.000000</td>\n",
       "      <td>137.000000</td>\n",
       "      <td>137.000000</td>\n",
       "      <td>137.000000</td>\n",
       "      <td>137.000000</td>\n",
       "      <td>137.000000</td>\n",
       "      <td>1.370000e+02</td>\n",
       "      <td>1.370000e+02</td>\n",
       "      <td>1.370000e+02</td>\n",
       "      <td>1.370000e+02</td>\n",
       "      <td>1.370000e+02</td>\n",
       "      <td>1.370000e+02</td>\n",
       "    </tr>\n",
       "    <tr>\n",
       "      <th>mean</th>\n",
       "      <td>40.723545</td>\n",
       "      <td>-74.054501</td>\n",
       "      <td>27.240511</td>\n",
       "      <td>254.198029</td>\n",
       "      <td>29.017664</td>\n",
       "      <td>30.027591</td>\n",
       "      <td>41.586423</td>\n",
       "      <td>15.181314</td>\n",
       "      <td>0.314964</td>\n",
       "      <td>-2.552703e-17</td>\n",
       "      <td>-1.701802e-17</td>\n",
       "      <td>3.370175e-16</td>\n",
       "      <td>2.188031e-17</td>\n",
       "      <td>2.978963e-15</td>\n",
       "      <td>-9.370039e-19</td>\n",
       "    </tr>\n",
       "    <tr>\n",
       "      <th>std</th>\n",
       "      <td>0.039136</td>\n",
       "      <td>0.379355</td>\n",
       "      <td>16.842495</td>\n",
       "      <td>88.981334</td>\n",
       "      <td>15.041344</td>\n",
       "      <td>9.542777</td>\n",
       "      <td>18.801567</td>\n",
       "      <td>5.733888</td>\n",
       "      <td>0.419140</td>\n",
       "      <td>1.676051e-01</td>\n",
       "      <td>1.125301e-01</td>\n",
       "      <td>1.705132e-01</td>\n",
       "      <td>2.115421e-01</td>\n",
       "      <td>2.493074e+01</td>\n",
       "      <td>1.199001e-02</td>\n",
       "    </tr>\n",
       "    <tr>\n",
       "      <th>min</th>\n",
       "      <td>40.665790</td>\n",
       "      <td>-74.910000</td>\n",
       "      <td>0.000000</td>\n",
       "      <td>75.400000</td>\n",
       "      <td>0.590000</td>\n",
       "      <td>14.460000</td>\n",
       "      <td>4.360000</td>\n",
       "      <td>0.460000</td>\n",
       "      <td>0.000000</td>\n",
       "      <td>-5.777622e-01</td>\n",
       "      <td>-2.778338e-01</td>\n",
       "      <td>-1.265823e+00</td>\n",
       "      <td>-4.926108e-01</td>\n",
       "      <td>-1.155378e+02</td>\n",
       "      <td>-2.720328e-02</td>\n",
       "    </tr>\n",
       "    <tr>\n",
       "      <th>25%</th>\n",
       "      <td>40.673740</td>\n",
       "      <td>-74.010120</td>\n",
       "      <td>14.290000</td>\n",
       "      <td>208.640000</td>\n",
       "      <td>19.740000</td>\n",
       "      <td>22.530000</td>\n",
       "      <td>28.340000</td>\n",
       "      <td>11.430000</td>\n",
       "      <td>0.020000</td>\n",
       "      <td>-8.322078e-02</td>\n",
       "      <td>-6.524391e-02</td>\n",
       "      <td>-4.531320e-02</td>\n",
       "      <td>-1.501746e-01</td>\n",
       "      <td>-2.164889e+00</td>\n",
       "      <td>-7.963528e-03</td>\n",
       "    </tr>\n",
       "    <tr>\n",
       "      <th>50%</th>\n",
       "      <td>40.738950</td>\n",
       "      <td>-73.996941</td>\n",
       "      <td>21.120000</td>\n",
       "      <td>242.130000</td>\n",
       "      <td>30.420000</td>\n",
       "      <td>29.280000</td>\n",
       "      <td>41.250000</td>\n",
       "      <td>14.100000</td>\n",
       "      <td>0.050000</td>\n",
       "      <td>-1.265099e-02</td>\n",
       "      <td>-1.033748e-02</td>\n",
       "      <td>-2.025559e-03</td>\n",
       "      <td>-7.369078e-02</td>\n",
       "      <td>-1.309631e+00</td>\n",
       "      <td>-7.133358e-04</td>\n",
       "    </tr>\n",
       "    <tr>\n",
       "      <th>75%</th>\n",
       "      <td>40.756050</td>\n",
       "      <td>-73.793440</td>\n",
       "      <td>41.010000</td>\n",
       "      <td>302.210000</td>\n",
       "      <td>40.310000</td>\n",
       "      <td>33.610000</td>\n",
       "      <td>55.130000</td>\n",
       "      <td>19.590000</td>\n",
       "      <td>0.540000</td>\n",
       "      <td>7.451565e-02</td>\n",
       "      <td>5.783723e-02</td>\n",
       "      <td>3.976143e-02</td>\n",
       "      <td>1.191895e-01</td>\n",
       "      <td>2.060960e+00</td>\n",
       "      <td>6.744602e-03</td>\n",
       "    </tr>\n",
       "    <tr>\n",
       "      <th>max</th>\n",
       "      <td>40.793425</td>\n",
       "      <td>-73.740851</td>\n",
       "      <td>59.650000</td>\n",
       "      <td>457.260000</td>\n",
       "      <td>66.610000</td>\n",
       "      <td>71.290000</td>\n",
       "      <td>85.260000</td>\n",
       "      <td>29.130000</td>\n",
       "      <td>1.440000</td>\n",
       "      <td>4.584505e-01</td>\n",
       "      <td>3.045001e-01</td>\n",
       "      <td>1.265823e+00</td>\n",
       "      <td>5.889202e-01</td>\n",
       "      <td>1.354582e+02</td>\n",
       "      <td>3.302732e-02</td>\n",
       "    </tr>\n",
       "  </tbody>\n",
       "</table>\n",
       "</div>"
      ],
      "text/plain": [
       "              lat        long       speed          co         no2          o3  \\\n",
       "count  137.000000  137.000000  137.000000  137.000000  137.000000  137.000000   \n",
       "mean    40.723545  -74.054501   27.240511  254.198029   29.017664   30.027591   \n",
       "std      0.039136    0.379355   16.842495   88.981334   15.041344    9.542777   \n",
       "min     40.665790  -74.910000    0.000000   75.400000    0.590000   14.460000   \n",
       "25%     40.673740  -74.010120   14.290000  208.640000   19.740000   22.530000   \n",
       "50%     40.738950  -73.996941   21.120000  242.130000   30.420000   29.280000   \n",
       "75%     40.756050  -73.793440   41.010000  302.210000   40.310000   33.610000   \n",
       "max     40.793425  -73.740851   59.650000  457.260000   66.610000   71.290000   \n",
       "\n",
       "             pm10        pm25         so2    no2_normal     o3_normal  \\\n",
       "count  137.000000  137.000000  137.000000  1.370000e+02  1.370000e+02   \n",
       "mean    41.586423   15.181314    0.314964 -2.552703e-17 -1.701802e-17   \n",
       "std     18.801567    5.733888    0.419140  1.676051e-01  1.125301e-01   \n",
       "min      4.360000    0.460000    0.000000 -5.777622e-01 -2.778338e-01   \n",
       "25%     28.340000   11.430000    0.020000 -8.322078e-02 -6.524391e-02   \n",
       "50%     41.250000   14.100000    0.050000 -1.265099e-02 -1.033748e-02   \n",
       "75%     55.130000   19.590000    0.540000  7.451565e-02  5.783723e-02   \n",
       "max     85.260000   29.130000    1.440000  4.584505e-01  3.045001e-01   \n",
       "\n",
       "        pm10_normal   pm25_normal    so2_normal     co_normal  \n",
       "count  1.370000e+02  1.370000e+02  1.370000e+02  1.370000e+02  \n",
       "mean   3.370175e-16  2.188031e-17  2.978963e-15 -9.370039e-19  \n",
       "std    1.705132e-01  2.115421e-01  2.493074e+01  1.199001e-02  \n",
       "min   -1.265823e+00 -4.926108e-01 -1.155378e+02 -2.720328e-02  \n",
       "25%   -4.531320e-02 -1.501746e-01 -2.164889e+00 -7.963528e-03  \n",
       "50%   -2.025559e-03 -7.369078e-02 -1.309631e+00 -7.133358e-04  \n",
       "75%    3.976143e-02  1.191895e-01  2.060960e+00  6.744602e-03  \n",
       "max    1.265823e+00  5.889202e-01  1.354582e+02  3.302732e-02  "
      ]
     },
     "execution_count": 39,
     "metadata": {},
     "output_type": "execute_result"
    }
   ],
   "source": [
    "ml.describe()"
   ]
  },
  {
   "cell_type": "markdown",
   "metadata": {},
   "source": [
    "## Predict speed"
   ]
  },
  {
   "cell_type": "code",
   "execution_count": 40,
   "metadata": {},
   "outputs": [],
   "source": [
    "#split test train\n",
    "x_col_speed = ['lat','long','co','no2','o3','pm10','pm25','so2','co_normal','no2_normal','o3_normal','pm10_normal','pm25_normal','so2_normal']\n",
    "y_col_speed = ['speed']\n",
    "X_train_speed,X_test_speed,y_train_speed,y_test_speed = train_test_split(ml[x_col_speed],ml[y_col_speed],test_size = 0.2,random_state = 5)"
   ]
  },
  {
   "cell_type": "code",
   "execution_count": 41,
   "metadata": {},
   "outputs": [],
   "source": [
    "#model train\n",
    "model = XGBRegressor()\n",
    "model.fit(X_train_speed.values,y_train_speed.values)\n",
    "y_pred_speed = model.predict(X_test_speed.values)"
   ]
  },
  {
   "cell_type": "code",
   "execution_count": 42,
   "metadata": {},
   "outputs": [],
   "source": [
    "#pickle.dump(model, open(\"speed_model.dat\", \"wb\"))\n",
    "#pickle.dump(X_train_speed.columns, open(\"speed_model_features.dat\", \"wb\"))"
   ]
  },
  {
   "cell_type": "code",
   "execution_count": 43,
   "metadata": {},
   "outputs": [
    {
     "data": {
      "text/plain": [
       "array([14.605643 , 17.63864  , 52.317593 , 15.429791 , 21.362509 ,\n",
       "       21.151976 , 11.437586 , 31.564312 ,  1.32757  , 43.566387 ,\n",
       "        7.2633038, 19.420872 , 25.682774 , 24.220882 , 45.18686  ,\n",
       "       49.729214 , 12.899038 ,  7.7721066, 34.29194  , 22.383467 ,\n",
       "       15.570503 , 13.227825 , 48.778233 , 20.301592 , 14.60327  ,\n",
       "       55.23297  , 31.391003 , 51.795776 ], dtype=float32)"
      ]
     },
     "execution_count": 43,
     "metadata": {},
     "output_type": "execute_result"
    }
   ],
   "source": [
    "model.predict(X_test_speed.values)"
   ]
  },
  {
   "cell_type": "code",
   "execution_count": 44,
   "metadata": {},
   "outputs": [
    {
     "name": "stdout",
     "output_type": "stream",
     "text": [
      "10.086001697949003\n"
     ]
    }
   ],
   "source": [
    "accuracy_speed = mean_absolute_error(y_test_speed.values,y_pred_speed)\n",
    "print(accuracy_speed)"
   ]
  },
  {
   "cell_type": "code",
   "execution_count": 45,
   "metadata": {},
   "outputs": [
    {
     "name": "stdout",
     "output_type": "stream",
     "text": [
      "16.741043497875665\n"
     ]
    }
   ],
   "source": [
    "rand_pred_speed =  np.random.uniform(low=min(y_test_speed.speed), high=max(y_test_speed.speed), size=(len(y_test_speed),))\n",
    "rand_accuracy_speed = mean_absolute_error(y_test_speed.values,rand_pred_speed)\n",
    "print(rand_accuracy_speed)"
   ]
  },
  {
   "cell_type": "markdown",
   "metadata": {},
   "source": [
    "## Predict pollution"
   ]
  },
  {
   "cell_type": "code",
   "execution_count": 46,
   "metadata": {},
   "outputs": [],
   "source": [
    "#split test train\n",
    "x_col_poll = ['lat','long','speed']\n",
    "var = 'pm25'\n",
    "y_col_poll = ['pm25']\n",
    "X_train_poll,X_test_poll,y_train_poll,y_test_poll = train_test_split(ml[x_col_poll],ml[y_col_poll],test_size = 0.2,random_state = 5)"
   ]
  },
  {
   "cell_type": "code",
   "execution_count": 47,
   "metadata": {},
   "outputs": [],
   "source": [
    "#model train\n",
    "model_poll = XGBRegressor()\n",
    "model_poll.fit(X_train_poll.values,y_train_poll.values)\n",
    "y_pred_poll = model_poll.predict(X_test_poll.values)"
   ]
  },
  {
   "cell_type": "code",
   "execution_count": 48,
   "metadata": {},
   "outputs": [
    {
     "name": "stdout",
     "output_type": "stream",
     "text": [
      "4.599268217086791\n"
     ]
    }
   ],
   "source": [
    "accuracy_poll = mean_absolute_error(y_test_poll.values,y_pred_poll)\n",
    "print(accuracy_poll)"
   ]
  },
  {
   "cell_type": "code",
   "execution_count": 49,
   "metadata": {},
   "outputs": [
    {
     "name": "stdout",
     "output_type": "stream",
     "text": [
      "5.655424459088086\n"
     ]
    }
   ],
   "source": [
    "rand_pred_poll =  np.random.uniform(low=min(y_test_poll[var]), high=max(y_test_poll[var]), size=(len(y_test_poll),))\n",
    "rand_accuracy_poll = mean_absolute_error(y_test_poll.values,rand_pred_poll)\n",
    "print(rand_accuracy_poll)"
   ]
  },
  {
   "cell_type": "code",
   "execution_count": 50,
   "metadata": {},
   "outputs": [],
   "source": [
    "pickle.dump(model, open(\"pollution_model.dat\", \"wb\"))"
   ]
  },
  {
   "cell_type": "code",
   "execution_count": null,
   "metadata": {},
   "outputs": [],
   "source": []
  }
 ],
 "metadata": {
  "kernelspec": {
   "display_name": "Python 3",
   "language": "python",
   "name": "python3"
  },
  "language_info": {
   "codemirror_mode": {
    "name": "ipython",
    "version": 3
   },
   "file_extension": ".py",
   "mimetype": "text/x-python",
   "name": "python",
   "nbconvert_exporter": "python",
   "pygments_lexer": "ipython3",
   "version": "3.6.1"
  }
 },
 "nbformat": 4,
 "nbformat_minor": 2
}
